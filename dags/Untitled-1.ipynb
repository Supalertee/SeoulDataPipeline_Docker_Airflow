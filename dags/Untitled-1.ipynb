{
 "cells": [
  {
   "cell_type": "markdown",
   "metadata": {},
   "source": [
    "## Build the PySpark Session ##"
   ]
  },
  {
   "cell_type": "code",
   "execution_count": null,
   "metadata": {},
   "outputs": [],
   "source": [
    "import pyspark\n",
    "from pyspark.sql import SparkSession\n",
    "from pyspark.sql import Column\n"
   ]
  },
  {
   "cell_type": "code",
   "execution_count": null,
   "metadata": {},
   "outputs": [],
   "source": [
    "spark.stop()\n",
    "spark = SparkSession.builder \\\n",
    "    .appName(\"example\") \\\n",
    "    .config(\"spark.driver.bindAddress\", \"127.0.0.1\") \\\n",
    "    .config(\"spark.port.maxRetries\", \"50\") \\\n",
    "    .getOrCreate()"
   ]
  },
  {
   "cell_type": "code",
   "execution_count": null,
   "metadata": {},
   "outputs": [],
   "source": [
    "spark"
   ]
  },
  {
   "cell_type": "code",
   "execution_count": null,
   "metadata": {},
   "outputs": [],
   "source": [
    "import os \n",
    "os.getcwd()\n",
    "os.listdir('dags/AirPollutionSeoul')\n",
    "dataset_path = 'dags/AirPollutionSeoul/Measurement_summary.csv'"
   ]
  },
  {
   "cell_type": "code",
   "execution_count": null,
   "metadata": {},
   "outputs": [],
   "source": [
    "df_pyspark = spark.read.option('header','true').csv('dags/AirPollutionSeoul/Measurement_summary.csv')"
   ]
  },
  {
   "cell_type": "code",
   "execution_count": null,
   "metadata": {},
   "outputs": [],
   "source": [
    "df_pyspark.show()"
   ]
  },
  {
   "cell_type": "code",
   "execution_count": null,
   "metadata": {},
   "outputs": [],
   "source": [
    "type(df_pyspark)"
   ]
  },
  {
   "cell_type": "code",
   "execution_count": null,
   "metadata": {},
   "outputs": [],
   "source": [
    "df_pyspark.printSchema()"
   ]
  },
  {
   "cell_type": "markdown",
   "metadata": {},
   "source": [
    "Another simple ways without using option"
   ]
  },
  {
   "cell_type": "code",
   "execution_count": null,
   "metadata": {},
   "outputs": [],
   "source": [
    "df_pyspark = spark.read.csv(dataset_path,header=True)\n",
    "df_pyspark.show()\n",
    "df_pyspark.printSchema()"
   ]
  },
  {
   "cell_type": "code",
   "execution_count": null,
   "metadata": {},
   "outputs": [],
   "source": [
    "df_pyspark.select(['Measurement date','Station code']).show()"
   ]
  },
  {
   "cell_type": "code",
   "execution_count": null,
   "metadata": {},
   "outputs": [],
   "source": [
    "df_pyspark.dtypes()"
   ]
  },
  {
   "cell_type": "code",
   "execution_count": null,
   "metadata": {},
   "outputs": [],
   "source": [
    "df_pyspark.dtypes"
   ]
  },
  {
   "cell_type": "markdown",
   "metadata": {},
   "source": [
    "Adding and drop column"
   ]
  },
  {
   "cell_type": "code",
   "execution_count": null,
   "metadata": {},
   "outputs": [],
   "source": [
    "df_pyspark = df_pyspark.withColumn('ExtreamS02',df_pyspark['SO2']+'0.004')\n",
    "df_pyspark.show()"
   ]
  },
  {
   "cell_type": "code",
   "execution_count": null,
   "metadata": {},
   "outputs": [],
   "source": [
    "df_pyspark.show()"
   ]
  },
  {
   "cell_type": "code",
   "execution_count": null,
   "metadata": {},
   "outputs": [],
   "source": [
    "# drop column\n",
    "df_pyspark.drop(\"ExtreamS02\").show()\n"
   ]
  },
  {
   "cell_type": "code",
   "execution_count": null,
   "metadata": {},
   "outputs": [],
   "source": [
    "df_pyspark = df_pyspark.withColumnRenamed(\"PM2.5\",\"PM25\")\n",
    "df_pyspark.show()"
   ]
  },
  {
   "cell_type": "code",
   "execution_count": null,
   "metadata": {},
   "outputs": [],
   "source": [
    "df_pyspark.describe().show()"
   ]
  },
  {
   "cell_type": "markdown",
   "metadata": {},
   "source": [
    "# PySpark Handling Missing Values ##\n"
   ]
  },
  {
   "cell_type": "markdown",
   "metadata": {},
   "source": [
    "<li>Dropping Columns</li>\n",
    "<li>Dropping Rows</li>\n",
    "<li>Various Parameter in Dropping functionalities</li>\n",
    "<li>Handelling with missing values by Mean/Median/Mode</li>"
   ]
  },
  {
   "cell_type": "code",
   "execution_count": null,
   "metadata": {},
   "outputs": [],
   "source": [
    "df_pyspark.na.drop(how=\"all\")\n",
    "#drop just only when all of column is null\n",
    "df_pyspark.na.drop(how=\"any\",thresh=2)\n",
    "#drop just only when there is values 2 \n",
    "df_pyspark.na.drop(how=\"any\",subset=[\"PM25\"]).show()\n"
   ]
  },
  {
   "cell_type": "code",
   "execution_count": null,
   "metadata": {},
   "outputs": [],
   "source": [
    "from pyspark.sql.functions import isnan, when, count, col\n"
   ]
  },
  {
   "cell_type": "code",
   "execution_count": null,
   "metadata": {},
   "outputs": [],
   "source": [
    "df_pyspark.select([count(when(isnan(c), c)).alias(c) for c in df_pyspark.columns]).show()\n"
   ]
  },
  {
   "cell_type": "code",
   "execution_count": null,
   "metadata": {},
   "outputs": [],
   "source": [
    " ### filling the missing value\n",
    "## this is how we fill the missing value by select particular columns\n",
    "df_pyspark.na.fill('Missing vaue',[\"Address\",\"SO2\"]).show()"
   ]
  },
  {
   "cell_type": "code",
   "execution_count": null,
   "metadata": {},
   "outputs": [],
   "source": []
  },
  {
   "cell_type": "markdown",
   "metadata": {},
   "source": [
    "## Fillter Operation (SQL)\n",
    "<li> Filter operations</li>\n",
    "<li> &,|,==</li>\n",
    "<li> ~ </li>\n"
   ]
  },
  {
   "cell_type": "code",
   "execution_count": null,
   "metadata": {},
   "outputs": [],
   "source": [
    "df_pyspark.filter(\"PM25 <= 50\").select([\"Address\",\"Measurement date\"]).show()"
   ]
  },
  {
   "cell_type": "code",
   "execution_count": null,
   "metadata": {},
   "outputs": [],
   "source": [
    "# & Operator\n",
    "df_pyspark.filter( (df_pyspark[\"PM25\"]<=50) & (df_pyspark[\"PM10\"]>=90))\\\n",
    "    .select([\"PM25\",\"PM10\"]).show()"
   ]
  },
  {
   "cell_type": "code",
   "execution_count": null,
   "metadata": {},
   "outputs": [],
   "source": [
    "df_pyspark.filter(~(df_pyspark[\"PM25\"]<= 50)).select(\"PM25\").show()\n",
    "# this is nothing other than inverse fillter"
   ]
  },
  {
   "cell_type": "markdown",
   "metadata": {},
   "source": [
    "## Group By and Aggregate Functions"
   ]
  },
  {
   "cell_type": "code",
   "execution_count": null,
   "metadata": {},
   "outputs": [],
   "source": [
    "from pyspark.sql.types import IntegerType,BooleanType,DateType\n"
   ]
  },
  {
   "cell_type": "code",
   "execution_count": null,
   "metadata": {},
   "outputs": [],
   "source": [
    "spark = SparkSession.builder.appName('test').getOrCreate()\n"
   ]
  },
  {
   "cell_type": "code",
   "execution_count": null,
   "metadata": {},
   "outputs": [],
   "source": [
    "# df_pyspark = spark.read.option('header','true').csv('dags/AirPollutionSeoul/Measurement_summary.csv')\n",
    "df_pyspark = spark.read.csv(\n",
    "    path = \"dags/AirPollutionSeoul/Measurement_summary.csv\",\n",
    "    header = True,\n",
    "    )\n",
    "df_pyspark = df_pyspark.withColumnRenamed(\"PM2.5\",\"PM25\")\n"
   ]
  },
  {
   "cell_type": "code",
   "execution_count": null,
   "metadata": {},
   "outputs": [],
   "source": [
    "df_pyspark.select[\"SO2\",\"NO2\",\"O3\",\"CO\",\"PM10\",\"PM25\"].show()"
   ]
  },
  {
   "cell_type": "code",
   "execution_count": null,
   "metadata": {},
   "outputs": [],
   "source": [
    "df_pyspark = df_pyspark.withColumn(\"PM25\",df_pyspark[\"PM25\"].cast('float').alias(\"PM25\")\n",
    ")\n",
    "df_pyspark = df_pyspark.withColumn(\"PM10\",df_pyspark[\"PM10\"].cast('float').alias(\"PM10\")\n",
    ")\n",
    "df_pyspark = df_pyspark.withColumn(\"SO2\",df_pyspark[\"SO2\"].cast('float').alias(\"SO2\")\n",
    ")\n",
    "df_pyspark = df_pyspark.withColumn(\"CO\",df_pyspark[\"CO\"].cast('float').alias(\"CO\")\n",
    ")\n",
    "\n",
    "\n"
   ]
  },
  {
   "cell_type": "code",
   "execution_count": null,
   "metadata": {},
   "outputs": [],
   "source": [
    "df_pyspark.printSchema()"
   ]
  },
  {
   "cell_type": "code",
   "execution_count": null,
   "metadata": {},
   "outputs": [],
   "source": [
    "df_stat = df_pyspark.summary().cache()\n",
    "df_stat.show()"
   ]
  },
  {
   "cell_type": "code",
   "execution_count": null,
   "metadata": {},
   "outputs": [],
   "source": [
    "float(df_stat.collect()[1][\"PM25\"])+(3*float(df_stat.collect()[2][\"PM25\"]))\n",
    "\n"
   ]
  },
  {
   "cell_type": "code",
   "execution_count": null,
   "metadata": {},
   "outputs": [],
   "source": [
    "3*df_stat.collect()[2][\"PM25\"]"
   ]
  },
  {
   "cell_type": "code",
   "execution_count": null,
   "metadata": {},
   "outputs": [],
   "source": [
    "df_pyspark.agg({\"PM25\":'max'})"
   ]
  },
  {
   "cell_type": "code",
   "execution_count": null,
   "metadata": {},
   "outputs": [],
   "source": [
    "df_pyspark.groupBy(\"Address\").max()"
   ]
  },
  {
   "cell_type": "code",
   "execution_count": null,
   "metadata": {},
   "outputs": [],
   "source": [
    "df_pyspark_test =df_pyspark.select([\"SO2\",\"PM25\"])\n",
    "df_pyspark_test.show()"
   ]
  },
  {
   "cell_type": "code",
   "execution_count": null,
   "metadata": {},
   "outputs": [],
   "source": [
    "from pyspark.ml.feature import VectorAssembler\n",
    "\n",
    "\n",
    "assembler =  VectorAssembler(inputCols=[\"SO2\",\"CO\",\"PM10\"],outputCol=\"features\", handleInvalid=\"keep\")"
   ]
  },
  {
   "cell_type": "code",
   "execution_count": null,
   "metadata": {},
   "outputs": [],
   "source": [
    "output.summary().show()"
   ]
  },
  {
   "cell_type": "code",
   "execution_count": null,
   "metadata": {},
   "outputs": [],
   "source": [
    "output = assembler.transform(df_pyspark).select([\"SO2\",\"CO\",\"PM10\",\"PM25\",\"features\"])\n",
    "output = output.select([\"PM25\",\"features\"])\n",
    "output.show()\n",
    "from pyspark.ml.regression import LinearRegression\n",
    "train_data, test_data = output.randomSplit([0.75,0.25])\n",
    "model = LinearRegression(featuresCol=\"features\",labelCol=\"PM25\")\n",
    "model = model.fit(output)\n"
   ]
  },
  {
   "cell_type": "code",
   "execution_count": null,
   "metadata": {},
   "outputs": [],
   "source": [
    "a, b = output.randomSplit([0.75, 0.25])  # Adding a seed for reproducibility\n"
   ]
  },
  {
   "cell_type": "code",
   "execution_count": null,
   "metadata": {},
   "outputs": [],
   "source": [
    "a.show()"
   ]
  },
  {
   "cell_type": "code",
   "execution_count": null,
   "metadata": {},
   "outputs": [],
   "source": [
    "from pyspark.ml.regression import LinearRegression\n",
    "train_data, test_data = output.randomSplit([0.75,0.25])\n",
    "model = LinearRegression(featuresCol=\"features\",labelCol=\"PM25\")\n",
    "model = model.fit(output)"
   ]
  },
  {
   "cell_type": "code",
   "execution_count": null,
   "metadata": {},
   "outputs": [],
   "source": [
    "import pyspark.pandas as ps"
   ]
  },
  {
   "cell_type": "code",
   "execution_count": null,
   "metadata": {},
   "outputs": [],
   "source": [
    "df_pandas =df_pyspark.pandas_api()\n",
    "df_pandas[\"PM25\"].hist\n",
    "\n"
   ]
  },
  {
   "cell_type": "code",
   "execution_count": null,
   "metadata": {},
   "outputs": [],
   "source": [
    "import seaborn as sns\n",
    "import matplotlib.pyplot as plt\n",
    "num = df_pandas[\"SO2\"][:].to_numpy()\n"
   ]
  },
  {
   "cell_type": "code",
   "execution_count": null,
   "metadata": {},
   "outputs": [],
   "source": [
    "sns.histplot(num)\n",
    "plt.xlim([0,1])"
   ]
  },
  {
   "cell_type": "code",
   "execution_count": null,
   "metadata": {},
   "outputs": [],
   "source": [
    "df_pandas[\"PM25\"][:].to_numpy()"
   ]
  },
  {
   "cell_type": "code",
   "execution_count": null,
   "metadata": {},
   "outputs": [],
   "source": [
    "predict = model.evaluate(test_data)\n",
    "predict.predictions.collect()[-1]"
   ]
  },
  {
   "cell_type": "code",
   "execution_count": null,
   "metadata": {},
   "outputs": [],
   "source": []
  },
  {
   "cell_type": "code",
   "execution_count": null,
   "metadata": {},
   "outputs": [],
   "source": [
    "from pyspark.sql import SparkSession\n",
    "from pyspark.ml.feature import VectorAssembler\n",
    "from pyspark.sql.functions import col\n",
    "\n",
    "# Initialize Spark session\n",
    "spark = SparkSession.builder.appName(\"example\").getOrCreate()\n",
    "\n",
    "# Create sample data\n",
    "data = [\n",
    "    (0.004, 1.2, 73.0, 57.0),\n",
    "    (0.004, 1.2, 71.0, 5.0),\n",
    "    (0.004, 1.2, 70.0, 59.0),\n",
    "    (0.004, 1.2, 70.0, 58.0),\n",
    "    (0.003, 1.2, 69.0, 61.0)\n",
    "]\n",
    "columns = ['SO2', 'CO', 'PM10', 'PM25']\n",
    "\n",
    "# Create DataFrame\n",
    "df_pyspark = spark.createDataFrame(data, columns)\n",
    "\n",
    "# Assemble features\n",
    "assembler = VectorAssembler(\n",
    "    inputCols=['SO2', 'CO', 'PM10'],\n",
    "    outputCol='features'\n",
    ")\n",
    "output = assembler.transform(df_pyspark)\n",
    "\n",
    "# Select relevant columns\n",
    "finalized = output.select([\"SO2\", \"CO\", \"PM10\", \"PM25\", \"features\"])\n",
    "\n",
    "# Show the DataFrame\n",
    "finalized.show(truncate=False)\n",
    "\n",
    "# Perform random split\n",
    "a, b = finalized.randomSplit([0.75, 0.25], seed=42)\n",
    "\n",
    "a.show()"
   ]
  },
  {
   "cell_type": "code",
   "execution_count": null,
   "metadata": {},
   "outputs": [],
   "source": [
    "output.show(truncate=False)"
   ]
  },
  {
   "cell_type": "code",
   "execution_count": null,
   "metadata": {},
   "outputs": [],
   "source": [
    "finalized.show()\n"
   ]
  },
  {
   "cell_type": "code",
   "execution_count": null,
   "metadata": {},
   "outputs": [],
   "source": [
    "a, b = finalized.randomSplit([0.75, 0.25], seed=42)\n",
    "a.show()"
   ]
  },
  {
   "cell_type": "code",
   "execution_count": null,
   "metadata": {},
   "outputs": [],
   "source": [
    "df=df_pyspark.select(columns)"
   ]
  },
  {
   "cell_type": "code",
   "execution_count": null,
   "metadata": {},
   "outputs": [],
   "source": [
    "def _sqlspark_data():\n",
    "    from pyspark.sql.functions import col, split, trim, substring \n",
    "    spark = SparkSession.builder.appName('practise').getOrCreate() \n",
    "    # df_pyspark = spark.read.option('header','true').csv('dags/AirPollutionSeoul/Measurement_summary.csv')\n",
    "    df_pyspark = spark.read.csv(\n",
    "    path = \"./AirPollutionSeoul/Measurement_summary.csv\",\n",
    "    header = True,\n",
    "    )\n",
    "    df_pyspark = df_pyspark.withColumnRenamed(\"PM2.5\",\"PM25\")\n",
    "    columns_to_cast = [\"PM25\", \"PM10\", \"SO2\", \"CO\", \"NO2\", \"O3\"]\n",
    "\n",
    "    for col_name in columns_to_cast:\n",
    "        df_pyspark = df_pyspark.withColumn(col_name, df_pyspark[col_name].cast('float'))\n",
    "\n",
    "    df_stat = df_pyspark.summary().cache()\n",
    "    pm25_cutoff_max = float(df_stat.collect()[1][\"PM25\"])+(2*float(df_stat.collect()[2][\"PM25\"]))\n",
    "    pm10_cutoff_max = float(df_stat.collect()[1][\"PM10\"])+(2*float(df_stat.collect()[2][\"PM10\"]))\n",
    "    so2_cutoff_max  = float(df_stat.collect()[1][\"SO2\"])+(2*float(df_stat.collect()[2][\"SO2\"]))\n",
    "    co_cutoff_max   = float(df_stat.collect()[1][\"CO\"])+(2*float(df_stat.collect()[2][\"CO\"]))\n",
    "    no2_cutoff_max  = float(df_stat.collect()[1][\"NO2\"])+(2*float(df_stat.collect()[2][\"NO2\"]))\n",
    "    o3_cutoff_max   = float(df_stat.collect()[1][\"O3\"])+(2*float(df_stat.collect()[2][\"O3\"]))\n",
    "\n",
    "    pm25_cutoff_min = float(df_stat.collect()[4][\"PM25\"])/2\n",
    "    pm10_cutoff_min = float(df_stat.collect()[4][\"PM10\"])/2\n",
    "    so2_cutoff_min = float(df_stat.collect()[4][\"SO2\"])/2\n",
    "    co_cutoff_min  = float(df_stat.collect()[4][\"CO\"])/2\n",
    "    no2_cutoff_min  = float(df_stat.collect()[4][\"NO2\"])/2\n",
    "    o3_cutoff_min  = float(df_stat.collect()[4][\"O3\"])/2\n",
    "    \n",
    "\n",
    "    df_pyspark = df_pyspark.filter((df_pyspark[\"PM25\"] >= pm25_cutoff_min )   &   (df_pyspark[\"PM25\"] < pm25_cutoff_max)    &\n",
    "                   (df_pyspark[\"PM10\"] >= pm10_cutoff_min)      &   (df_pyspark[\"PM10\"] < pm10_cutoff_max ) &\n",
    "                   (df_pyspark[\"SO2\"]>= so2_cutoff_min)        &   (df_pyspark[\"SO2\"] < so2_cutoff_max )   &\n",
    "                   (df_pyspark[\"NO2\"]>= no2_cutoff_min)         &   (df_pyspark[\"NO2\"] < no2_cutoff_max )  &\n",
    "                   (df_pyspark[\"O3\"]>=  o3_cutoff_min)          &   (df_pyspark[\"O3\"] < o3_cutoff_max )     &\n",
    "                   (df_pyspark[\"CO\"]>=  co_cutoff_min)          &   (df_pyspark[\"CO\"] < co_cutoff_max ) )\n",
    "    \n",
    "\n",
    "    df_pyspark =  df_pyspark.withColumn(\"Measurement date\", substring(col(\"Measurement date\"), 1, 4))\n",
    "    df_pyspark =  df_pyspark.withColumn(\"Address\", trim(split(col(\"Address\"), \",\").getItem(2)))\n",
    "\n",
    "    df_pyspark.write.format(\"csv\").option(\"header\", \"true\").mode(\"overwrite\").save(\"./Measurement_summary_1\")\n",
    "\n"
   ]
  },
  {
   "cell_type": "code",
   "execution_count": null,
   "metadata": {},
   "outputs": [],
   "source": []
  },
  {
   "cell_type": "code",
   "execution_count": null,
   "metadata": {},
   "outputs": [],
   "source": [
    "import pyspark\n",
    "from pyspark.sql import SparkSession\n",
    "spark = SparkSession.builder.appName('practise').getOrCreate() \n",
    "\n",
    "df_pyspark_read = spark.read.format(\"csv\").option(\"header\", \"true\").load(\"./Measurement_summary_1\")"
   ]
  },
  {
   "cell_type": "code",
   "execution_count": null,
   "metadata": {},
   "outputs": [],
   "source": [
    "df_pyspark_read.withColumn(\"Measurement date\",col(\"Measurement date\")).show()"
   ]
  },
  {
   "cell_type": "code",
   "execution_count": null,
   "metadata": {},
   "outputs": [],
   "source": [
    "df_pyspark_read.filter(df_pyspark_read[\"Measurement date\"] == 2017).show()\n",
    "df_pyspark_read.filter(df_pyspark_read[\"Measurement date\"] == 2018).show()\n",
    "S2019 = df_pyspark_read.filter(df_pyspark_read[\"Measurement date\"] == 2019)"
   ]
  },
  {
   "cell_type": "code",
   "execution_count": null,
   "metadata": {},
   "outputs": [],
   "source": [
    "df_pyspark_read.show()"
   ]
  },
  {
   "cell_type": "code",
   "execution_count": null,
   "metadata": {},
   "outputs": [],
   "source": [
    "df_pyspark_read = spark.read.format(\"csv\").option(\"header\", \"true\").load(\"./S2019\")\n",
    "df_pyspark_read.show()"
   ]
  },
  {
   "cell_type": "code",
   "execution_count": null,
   "metadata": {},
   "outputs": [],
   "source": [
    "S2019.write.format(\"csv\").option(\"header\", \"true\").mode(\"overwrite\").save(\"./S2019\")\n"
   ]
  },
  {
   "cell_type": "code",
   "execution_count": null,
   "metadata": {},
   "outputs": [],
   "source": [
    "from pyspark.sql.functions import col, split, trim, substring\n"
   ]
  },
  {
   "cell_type": "code",
   "execution_count": null,
   "metadata": {},
   "outputs": [],
   "source": [
    "Seoulmod[\"Address\"]=Seoulmod[\"Address\"].str.split(',').str[2].str.strip()\n"
   ]
  },
  {
   "cell_type": "code",
   "execution_count": null,
   "metadata": {},
   "outputs": [],
   "source": [
    "df_pyspark_read = df_pyspark_read.withColumn(\"Measurement date\", substring(col(\"Measurement date\"), 1, 4))\n",
    "df_pyspark_read = df_pyspark_read.withColumn(\"Address\", trim(split(col(\"Address\"), \",\").getItem(2)))\n",
    "df_pyspark_read.show()\n",
    "\n"
   ]
  },
  {
   "cell_type": "code",
   "execution_count": null,
   "metadata": {},
   "outputs": [],
   "source": [
    "df_pyspark_read.select(\"Measurement date\").str"
   ]
  },
  {
   "cell_type": "code",
   "execution_count": null,
   "metadata": {},
   "outputs": [],
   "source": [
    "df_pyspark=_sqlspark_data()\n",
    "df_pyspark.show()"
   ]
  },
  {
   "cell_type": "code",
   "execution_count": null,
   "metadata": {},
   "outputs": [],
   "source": [
    "from pyspark.ml.feature import VectorAssembler\n",
    "from pyspark.ml.regression import LinearRegression\n",
    "\n",
    "assembler =  VectorAssembler(inputCols=[\"SO2\",\"CO\",\"PM10\",\"NO2\"],outputCol=\"features\", handleInvalid=\"keep\")\n",
    "output = assembler.transform(df_pyspark).select([\"PM25\",\"features\"])\n",
    "output = output.select([\"PM25\",\"features\"])\n",
    "train_data, test_data = output.randomSplit([0.75,0.25],seed=1)\n",
    "train_data.cache()\n",
    "test_data.cache()\n",
    "model = LinearRegression(featuresCol=\"features\",labelCol=\"PM25\")\n",
    "model = model.fit(output)"
   ]
  },
  {
   "cell_type": "code",
   "execution_count": null,
   "metadata": {},
   "outputs": [],
   "source": [
    "trainingSummary = model.summary\n",
    "trainingSummary.r2"
   ]
  },
  {
   "cell_type": "code",
   "execution_count": null,
   "metadata": {},
   "outputs": [],
   "source": [
    "predict = model.evaluate(test_data)\n",
    "predict.predictions.collect()"
   ]
  },
  {
   "cell_type": "code",
   "execution_count": null,
   "metadata": {},
   "outputs": [],
   "source": [
    "# df_pyspark.filter(\"PM25 <= 0\").select([\"PM25\"]).show()\n",
    "# df_pyspark.filter(~(df_pyspark[\"SO2\"] <= 0)).select([\"SO2\"]).show()\n",
    "df_pyspark.filter((df_pyspark[\"PM25\"] > 0 ) &\n",
    "                   (df_pyspark[\"PM10\"] > 0 )& \n",
    "                   (df_pyspark[\"CO\"]> 0)).show()"
   ]
  },
  {
   "cell_type": "code",
   "execution_count": null,
   "metadata": {},
   "outputs": [],
   "source": [
    "Seoulmod[\"Measurement date\"]=Seoulmod[\"Measurement date\"].str.slice(0,4)\n",
    "Seoulmod[\"Address\"]=Seoulmod[\"Address\"].str.split(',').str[2].str.strip()\n",
    "\n",
    "Seoulall =Seoulmod.drop([\"Measurement date\"],axis=1).groupby('Address').mean().reset_index()\n",
    "Seoul2017 = Seoulmod[Seoulmod[\"Measurement date\"]==\"2017\"].drop(\"Measurement date\",axis=1)\\\n",
    "    .groupby([\"Station code\",\"Address\",\"Latitude\",\"Longitude\"]).mean().reset_index()\n",
    "Seoul2018 = Seoulmod[Seoulmod[\"Measurement date\"]==\"2018\"].drop(\"Measurement date\",axis=1)\\\n",
    "    .groupby([\"Station code\",\"Address\",\"Latitude\",\"Longitude\"]).mean().reset_index()\n",
    "Seoul2019 = Seoulmod[Seoulmod[\"Measurement date\"]==\"2019\"].drop(\"Measurement date\",axis=1)\\\n",
    "    .groupby([\"Station code\",\"Address\",\"Latitude\",\"Longitude\"]).mean().reset_index()\n"
   ]
  },
  {
   "cell_type": "code",
   "execution_count": null,
   "metadata": {},
   "outputs": [],
   "source": []
  },
  {
   "cell_type": "code",
   "execution_count": null,
   "metadata": {},
   "outputs": [],
   "source": [
    "def _geomerge_plot() :\n",
    "        import geopandas as gpd\n",
    "        import pandas as pd\n",
    "        import matplotlib.pyplot as plt\n",
    "        from pyspark.sql import SparkSession \n",
    "        import os\n",
    "\n",
    "        spark = SparkSession.builder.appName('spark').getOrCreate() \n",
    "\n",
    "        # Seoulall = spark.read.format(\"csv\").option(\"header\", \"true\").load(\"/Users/art/Airflow/dags/AirPollutionSeoul/all\")\n",
    "        Seoul2017 = spark.read.format(\"csv\").option(\"header\", \"true\").load(\"/Users/art/Airflow/dags/AirPollutionSeoul/2017\")\n",
    "        Seoul2018 = spark.read.format(\"csv\").option(\"header\", \"true\").load(\"/Users/art/Airflow/dags/AirPollutionSeoul/2018\")\n",
    "        Seoul2019 = spark.read.format(\"csv\").option(\"header\", \"true\").load(\"/Users/art/Airflow/dags/AirPollutionSeoul/2019\")\n",
    "        tempSeoulGep= gpd.read_file(\"/Users/art/Airflow/plugins/seoul_municipalities_geo.json\")\n",
    "\n",
    "        Seoul2017_pd = Seoul2017.toPandas()\n",
    "        Seoul2018_pd = Seoul2018.toPandas()\n",
    "        Seoul2019_pd = Seoul2019.toPandas()\n",
    "        # Seoulall_pd = Seoulall.toPandas()\n",
    "\n",
    "\n",
    "        SeoulGeo_pollution2017 = tempSeoulGep.merge(Seoul2017_pd, left_on='SIG_ENG_NM', right_on='Address').drop(\"Address\",axis=1)\n",
    "        SeoulGeo_pollution2018 = tempSeoulGep.merge(Seoul2018_pd, left_on='SIG_ENG_NM', right_on='Address').drop(\"Address\",axis=1)\n",
    "        SeoulGeo_pollution2019 = tempSeoulGep.merge(Seoul2019_pd, left_on='SIG_ENG_NM', right_on='Address').drop(\"Address\",axis=1)\n",
    "\n",
    "\n",
    "        f, axes = plt.subplots(figsize=(1, 2), ncols=2, nrows=1,layout=\"compressed\")\n",
    "        SeoulGeo_pollution2017.plot(ax=axes[0], column='PM25', cmap='OrRd', legend=True)\n",
    "        SeoulGeo_pollution2017.plot(ax=axes[1], column='PM10', cmap='OrRd', legend=True)\n",
    "        # SeoulGeo_pollution2017.plot(ax=axes[2][0], column='CO', cmap='OrRd', legend=True,vmin = mindata[\"CO\"],vmax = maxdata[\"CO\"])\n",
    "        # SeoulGeo_pollution2017.plot(ax=axes[3][0], column='SO2', cmap='OrRd', legend=True,vmin = mindata[\"SO2\"],vmax = maxdata[\"SO2\"])\n",
    "        # SeoulGeo_pollution2018.plot(ax=axes[0][1], column='PM25 ', cmap='OrRd', legend=True,vmin = mindata[\"PM25\"],vmax = maxdata[\"PM25\"])\n",
    "        # SeoulGeo_pollution2018.plot(ax=axes[1][1], column='PM10', cmap='OrRd', legend=True,vmin = mindata[\"PM10\"],vmax = maxdata[\"PM10\"])\n",
    "        # SeoulGeo_pollution2018.plot(ax=axes[2][1], column='CO', cmap='OrRd', legend=True,vmin = mindata[\"CO\"],vmax = maxdata[\"CO\"])\n",
    "        # SeoulGeo_pollution2018.plot(ax=axes[3][1], column='SO2', cmap='OrRd', legend=True,vmin = mindata[\"SO2\"],vmax = maxdata[\"SO2\"])\n",
    "        # SeoulGeo_pollution2019.plot(ax=axes[0][2], column='PM25', cmap='OrRd', legend=True,vmin = mindata[\"PM25\"],vmax = maxdata[\"PM25\"])\n",
    "        # SeoulGeo_pollution2019.plot(ax=axes[1][2], column='PM10', cmap='OrRd', legend=True,vmin = mindata[\"PM10\"],vmax = maxdata[\"PM10\"])\n",
    "        # SeoulGeo_pollution2019.plot(ax=axes[2][2], column='CO', cmap='OrRd', legend=True,vmin = mindata[\"CO\"],vmax = maxdata[\"CO\"])\n",
    "        # SeoulGeo_pollution2019.plot(ax=axes[3][2], column='SO2', cmap='OrRd', legend=True,vmin = mindata[\"SO2\"],vmax = maxdata[\"SO2\"])\n",
    "\n",
    "        # for i, ax_row in enumerate(axes):\n",
    "        #     for j, ax in enumerate(ax_row):\n",
    "        #         ax.set_xticks([])\n",
    "        #         ax.set_yticks([])\n",
    "        #         if i ==0:\n",
    "        #             if j == 0:\n",
    "        #                 ax.set_title(\"2017\" , fontsize=12)\n",
    "        #             elif j==1:\n",
    "        #                 ax.set_title(\"2018\" , fontsize=12)\n",
    "        #             else:\n",
    "        #                 ax.set_title(\"2019\" , fontsize=12)\n",
    "        #         else:\n",
    "        #             ax.set_title(\" \")\n",
    "        # plt.savefig(\"./geo_map.png\")\n",
    "\n",
    "def _sqlspark_data():\n",
    "    spark = SparkSession.builder.appName('practise').getOrCreate() \n",
    "    # df_pyspark = spark.read.option('header','true').csv('dags/AirPollutionSeoul/Measurement_summary.csv')\n",
    "    df_pyspark = spark.read.csv(\n",
    "    path = \"./AirPollutionSeoul/Measurement_summary.csv\",\n",
    "    header = True,\n",
    "    )\n",
    "    df_pyspark = df_pyspark.withColumnRenamed(\"PM2.5\",\"PM25\")\n",
    "    columns_to_cast = [\"PM25\", \"PM10\", \"SO2\", \"CO\", \"NO2\", \"O3\"]\n",
    "\n",
    "    for col_name in columns_to_cast:\n",
    "        df_pyspark = df_pyspark.withColumn(col_name, df_pyspark[col_name].cast('float'))\n",
    "\n",
    "    df_stat = df_pyspark.summary().cache()\n",
    "    pm25_cutoff_max = float(df_stat.collect()[1][\"PM25\"])+(2*float(df_stat.collect()[2][\"PM25\"]))\n",
    "    pm10_cutoff_max = float(df_stat.collect()[1][\"PM10\"])+(2*float(df_stat.collect()[2][\"PM10\"]))\n",
    "    so2_cutoff_max  = float(df_stat.collect()[1][\"SO2\"])+(2*float(df_stat.collect()[2][\"SO2\"]))\n",
    "    co_cutoff_max   = float(df_stat.collect()[1][\"CO\"])+(2*float(df_stat.collect()[2][\"CO\"]))\n",
    "    no2_cutoff_max  = float(df_stat.collect()[1][\"NO2\"])+(2*float(df_stat.collect()[2][\"NO2\"]))\n",
    "    o3_cutoff_max   = float(df_stat.collect()[1][\"O3\"])+(2*float(df_stat.collect()[2][\"O3\"]))\n",
    "\n",
    "    pm25_cutoff_min = float(df_stat.collect()[4][\"PM25\"])/2\n",
    "    pm10_cutoff_min = float(df_stat.collect()[4][\"PM10\"])/2\n",
    "    so2_cutoff_min = float(df_stat.collect()[4][\"SO2\"])/2\n",
    "    co_cutoff_min  = float(df_stat.collect()[4][\"CO\"])/2\n",
    "    no2_cutoff_min  = float(df_stat.collect()[4][\"NO2\"])/2\n",
    "    o3_cutoff_min  = float(df_stat.collect()[4][\"O3\"])/2\n",
    "    \n",
    "\n",
    "    df_pyspark = df_pyspark.filter((df_pyspark[\"PM25\"] >= pm25_cutoff_min )   &   (df_pyspark[\"PM25\"] < pm25_cutoff_max)    &\n",
    "                   (df_pyspark[\"PM10\"] >= pm10_cutoff_min)      &   (df_pyspark[\"PM10\"] < pm10_cutoff_max ) &\n",
    "                   (df_pyspark[\"SO2\"]>= so2_cutoff_min)         &   (df_pyspark[\"SO2\"] < so2_cutoff_max )   &\n",
    "                   (df_pyspark[\"NO2\"]>= no2_cutoff_min)         &   (df_pyspark[\"NO2\"] < no2_cutoff_max )   &\n",
    "                   (df_pyspark[\"O3\"]>=  o3_cutoff_min)          &   (df_pyspark[\"O3\"] < o3_cutoff_max )     &\n",
    "                   (df_pyspark[\"CO\"]>=  co_cutoff_min)          &   (df_pyspark[\"CO\"] < co_cutoff_max ) )\n",
    "    \n",
    "\n",
    "    df_pyspark =  df_pyspark.withColumn(\"Measurement date\", substring(col(\"Measurement date\"), 1, 4))\n",
    "    df_pyspark =  df_pyspark.withColumn(\"Address\", trim(split(col(\"Address\"), \",\").getItem(2)))\n",
    "    Seoul2017 = df_pyspark.filter(df_pyspark[\"Measurement date\"] == 2017)\n",
    "    Seoul2018 = df_pyspark.filter(df_pyspark[\"Measurement date\"] == 2018)\n",
    "    Seoul2019 = df_pyspark.filter(df_pyspark[\"Measurement date\"] == 2019)\n",
    "\n",
    "    Seoul2017.write.format(\"csv\").option(\"header\", \"true\").mode(\"overwrite\").save(\"2017\")\n",
    "    Seoul2018.write.format(\"csv\").option(\"header\", \"true\").mode(\"overwrite\").save(\"2018\")\n",
    "    Seoul2019.write.format(\"csv\").option(\"header\", \"true\").mode(\"overwrite\").save(\"2019\")\n",
    "    df_pyspark.write.format(\"csv\").option(\"header\", \"true\").mode(\"overwrite\").save(\"all\")\n",
    "\n"
   ]
  },
  {
   "cell_type": "code",
   "execution_count": null,
   "metadata": {},
   "outputs": [],
   "source": [
    "from pyspark.sql import SparkSession \n",
    "import os\n",
    "from pyspark.sql import functions as F\n",
    "\n",
    "spark = SparkSession.builder.appName('spark').getOrCreate() \n",
    "\n",
    "# Seoulall = spark.read.format(\"csv\").option(\"header\", \"true\").load(\"all\")\n",
    "Seoul2017 = spark.read.format(\"csv\").option(\"header\", \"true\").load(\"/Users/art/Airflow/dags/AirPollutionSeoul/2017\")\n",
    "max_pm25 = Seoul2017.select(F.max(\"PM25\")).collect()[0][0]\n",
    "\n"
   ]
  },
  {
   "cell_type": "code",
   "execution_count": null,
   "metadata": {},
   "outputs": [],
   "source": [
    "Seoul201\""
   ]
  },
  {
   "cell_type": "code",
   "execution_count": 3,
   "metadata": {},
   "outputs": [
    {
     "name": "stderr",
     "output_type": "stream",
     "text": [
      "24/08/29 16:38:58 WARN SparkContext: Another SparkContext is being constructed (or threw an exception in its constructor). This may indicate an error, since only one SparkContext should be running in this JVM (see SPARK-2243). The other SparkContext was created at:\n",
      "org.apache.spark.api.java.JavaSparkContext.<init>(JavaSparkContext.scala:58)\n",
      "java.base/jdk.internal.reflect.DirectConstructorHandleAccessor.newInstance(DirectConstructorHandleAccessor.java:62)\n",
      "java.base/java.lang.reflect.Constructor.newInstanceWithCaller(Constructor.java:502)\n",
      "java.base/java.lang.reflect.Constructor.newInstance(Constructor.java:486)\n",
      "py4j.reflection.MethodInvoker.invoke(MethodInvoker.java:247)\n",
      "py4j.reflection.ReflectionEngine.invoke(ReflectionEngine.java:374)\n",
      "py4j.Gateway.invoke(Gateway.java:238)\n",
      "py4j.commands.ConstructorCommand.invokeConstructor(ConstructorCommand.java:80)\n",
      "py4j.commands.ConstructorCommand.execute(ConstructorCommand.java:69)\n",
      "py4j.ClientServerConnection.waitForCommands(ClientServerConnection.java:182)\n",
      "py4j.ClientServerConnection.run(ClientServerConnection.java:106)\n",
      "java.base/java.lang.Thread.run(Thread.java:1570)\n"
     ]
    }
   ],
   "source": [
    "from pyspark.sql import SparkSession \n",
    "spark = SparkSession.builder \\\n",
    "    .appName('spark') \\\n",
    "    .config(\"spark.driver.bindAddress\", \"127.0.0.1\") \\\n",
    "    .getOrCreate()"
   ]
  },
  {
   "cell_type": "code",
   "execution_count": 3,
   "metadata": {},
   "outputs": [
    {
     "name": "stderr",
     "output_type": "stream",
     "text": [
      "24/08/29 18:05:12 WARN SparkContext: Another SparkContext is being constructed (or threw an exception in its constructor). This may indicate an error, since only one SparkContext should be running in this JVM (see SPARK-2243). The other SparkContext was created at:\n",
      "org.apache.spark.api.java.JavaSparkContext.<init>(JavaSparkContext.scala:58)\n",
      "java.base/jdk.internal.reflect.DirectConstructorHandleAccessor.newInstance(DirectConstructorHandleAccessor.java:62)\n",
      "java.base/java.lang.reflect.Constructor.newInstanceWithCaller(Constructor.java:502)\n",
      "java.base/java.lang.reflect.Constructor.newInstance(Constructor.java:486)\n",
      "py4j.reflection.MethodInvoker.invoke(MethodInvoker.java:247)\n",
      "py4j.reflection.ReflectionEngine.invoke(ReflectionEngine.java:374)\n",
      "py4j.Gateway.invoke(Gateway.java:238)\n",
      "py4j.commands.ConstructorCommand.invokeConstructor(ConstructorCommand.java:80)\n",
      "py4j.commands.ConstructorCommand.execute(ConstructorCommand.java:69)\n",
      "py4j.ClientServerConnection.waitForCommands(ClientServerConnection.java:182)\n",
      "py4j.ClientServerConnection.run(ClientServerConnection.java:106)\n",
      "java.base/java.lang.Thread.run(Thread.java:1570)\n",
      "24/08/29 18:05:13 WARN Utils: Service 'sparkDriver' could not bind on a random free port. You may check whether configuring an appropriate binding address.\n",
      "24/08/29 18:05:13 WARN Utils: Service 'sparkDriver' could not bind on a random free port. You may check whether configuring an appropriate binding address.\n",
      "24/08/29 18:05:13 WARN Utils: Service 'sparkDriver' could not bind on a random free port. You may check whether configuring an appropriate binding address.\n",
      "24/08/29 18:05:13 WARN Utils: Service 'sparkDriver' could not bind on a random free port. You may check whether configuring an appropriate binding address.\n",
      "24/08/29 18:05:13 WARN Utils: Service 'sparkDriver' could not bind on a random free port. You may check whether configuring an appropriate binding address.\n",
      "24/08/29 18:05:13 WARN Utils: Service 'sparkDriver' could not bind on a random free port. You may check whether configuring an appropriate binding address.\n",
      "24/08/29 18:05:13 WARN Utils: Service 'sparkDriver' could not bind on a random free port. You may check whether configuring an appropriate binding address.\n",
      "24/08/29 18:05:13 WARN Utils: Service 'sparkDriver' could not bind on a random free port. You may check whether configuring an appropriate binding address.\n",
      "24/08/29 18:05:13 WARN Utils: Service 'sparkDriver' could not bind on a random free port. You may check whether configuring an appropriate binding address.\n",
      "24/08/29 18:05:13 WARN Utils: Service 'sparkDriver' could not bind on a random free port. You may check whether configuring an appropriate binding address.\n",
      "24/08/29 18:05:13 WARN Utils: Service 'sparkDriver' could not bind on a random free port. You may check whether configuring an appropriate binding address.\n",
      "24/08/29 18:05:13 WARN Utils: Service 'sparkDriver' could not bind on a random free port. You may check whether configuring an appropriate binding address.\n",
      "24/08/29 18:05:13 WARN Utils: Service 'sparkDriver' could not bind on a random free port. You may check whether configuring an appropriate binding address.\n",
      "24/08/29 18:05:13 WARN Utils: Service 'sparkDriver' could not bind on a random free port. You may check whether configuring an appropriate binding address.\n",
      "24/08/29 18:05:13 WARN Utils: Service 'sparkDriver' could not bind on a random free port. You may check whether configuring an appropriate binding address.\n",
      "24/08/29 18:05:13 WARN Utils: Service 'sparkDriver' could not bind on a random free port. You may check whether configuring an appropriate binding address.\n",
      "24/08/29 18:05:13 ERROR SparkContext: Error initializing SparkContext.\n",
      "java.net.BindException: Can't assign requested address: Service 'sparkDriver' failed after 16 retries (on a random free port)! Consider explicitly setting the appropriate binding address for the service 'sparkDriver' (for example spark.driver.bindAddress for SparkDriver) to the correct binding address.\n",
      "\tat java.base/sun.nio.ch.Net.bind0(Native Method)\n",
      "\tat java.base/sun.nio.ch.Net.bind(Net.java:565)\n",
      "\tat java.base/sun.nio.ch.ServerSocketChannelImpl.netBind(ServerSocketChannelImpl.java:344)\n",
      "\tat java.base/sun.nio.ch.ServerSocketChannelImpl.bind(ServerSocketChannelImpl.java:301)\n",
      "\tat io.netty.channel.socket.nio.NioServerSocketChannel.doBind(NioServerSocketChannel.java:141)\n",
      "\tat io.netty.channel.AbstractChannel$AbstractUnsafe.bind(AbstractChannel.java:562)\n",
      "\tat io.netty.channel.DefaultChannelPipeline$HeadContext.bind(DefaultChannelPipeline.java:1334)\n",
      "\tat io.netty.channel.AbstractChannelHandlerContext.invokeBind(AbstractChannelHandlerContext.java:600)\n",
      "\tat io.netty.channel.AbstractChannelHandlerContext.bind(AbstractChannelHandlerContext.java:579)\n",
      "\tat io.netty.channel.DefaultChannelPipeline.bind(DefaultChannelPipeline.java:973)\n",
      "\tat io.netty.channel.AbstractChannel.bind(AbstractChannel.java:260)\n",
      "\tat io.netty.bootstrap.AbstractBootstrap$2.run(AbstractBootstrap.java:356)\n",
      "\tat io.netty.util.concurrent.AbstractEventExecutor.runTask(AbstractEventExecutor.java:174)\n",
      "\tat io.netty.util.concurrent.AbstractEventExecutor.safeExecute(AbstractEventExecutor.java:167)\n",
      "\tat io.netty.util.concurrent.SingleThreadEventExecutor.runAllTasks(SingleThreadEventExecutor.java:470)\n",
      "\tat io.netty.channel.nio.NioEventLoop.run(NioEventLoop.java:569)\n",
      "\tat io.netty.util.concurrent.SingleThreadEventExecutor$4.run(SingleThreadEventExecutor.java:997)\n",
      "\tat io.netty.util.internal.ThreadExecutorMap$2.run(ThreadExecutorMap.java:74)\n",
      "\tat io.netty.util.concurrent.FastThreadLocalRunnable.run(FastThreadLocalRunnable.java:30)\n",
      "\tat java.base/java.lang.Thread.run(Thread.java:1570)\n"
     ]
    },
    {
     "ename": "Py4JJavaError",
     "evalue": "An error occurred while calling None.org.apache.spark.api.java.JavaSparkContext.\n: java.net.BindException: Can't assign requested address: Service 'sparkDriver' failed after 16 retries (on a random free port)! Consider explicitly setting the appropriate binding address for the service 'sparkDriver' (for example spark.driver.bindAddress for SparkDriver) to the correct binding address.\n\tat java.base/sun.nio.ch.Net.bind0(Native Method)\n\tat java.base/sun.nio.ch.Net.bind(Net.java:565)\n\tat java.base/sun.nio.ch.ServerSocketChannelImpl.netBind(ServerSocketChannelImpl.java:344)\n\tat java.base/sun.nio.ch.ServerSocketChannelImpl.bind(ServerSocketChannelImpl.java:301)\n\tat io.netty.channel.socket.nio.NioServerSocketChannel.doBind(NioServerSocketChannel.java:141)\n\tat io.netty.channel.AbstractChannel$AbstractUnsafe.bind(AbstractChannel.java:562)\n\tat io.netty.channel.DefaultChannelPipeline$HeadContext.bind(DefaultChannelPipeline.java:1334)\n\tat io.netty.channel.AbstractChannelHandlerContext.invokeBind(AbstractChannelHandlerContext.java:600)\n\tat io.netty.channel.AbstractChannelHandlerContext.bind(AbstractChannelHandlerContext.java:579)\n\tat io.netty.channel.DefaultChannelPipeline.bind(DefaultChannelPipeline.java:973)\n\tat io.netty.channel.AbstractChannel.bind(AbstractChannel.java:260)\n\tat io.netty.bootstrap.AbstractBootstrap$2.run(AbstractBootstrap.java:356)\n\tat io.netty.util.concurrent.AbstractEventExecutor.runTask(AbstractEventExecutor.java:174)\n\tat io.netty.util.concurrent.AbstractEventExecutor.safeExecute(AbstractEventExecutor.java:167)\n\tat io.netty.util.concurrent.SingleThreadEventExecutor.runAllTasks(SingleThreadEventExecutor.java:470)\n\tat io.netty.channel.nio.NioEventLoop.run(NioEventLoop.java:569)\n\tat io.netty.util.concurrent.SingleThreadEventExecutor$4.run(SingleThreadEventExecutor.java:997)\n\tat io.netty.util.internal.ThreadExecutorMap$2.run(ThreadExecutorMap.java:74)\n\tat io.netty.util.concurrent.FastThreadLocalRunnable.run(FastThreadLocalRunnable.java:30)\n\tat java.base/java.lang.Thread.run(Thread.java:1570)\n",
     "output_type": "error",
     "traceback": [
      "\u001b[0;31m---------------------------------------------------------------------------\u001b[0m",
      "\u001b[0;31mPy4JJavaError\u001b[0m                             Traceback (most recent call last)",
      "Cell \u001b[0;32mIn[3], line 9\u001b[0m\n\u001b[1;32m      6\u001b[0m \u001b[38;5;28;01mfrom\u001b[39;00m \u001b[38;5;21;01mmatplotlib\u001b[39;00m\u001b[38;5;21;01m.\u001b[39;00m\u001b[38;5;21;01mcolors\u001b[39;00m \u001b[38;5;28;01mimport\u001b[39;00m Normalize\n\u001b[1;32m      8\u001b[0m \u001b[38;5;66;03m# Initialize Spark session\u001b[39;00m\n\u001b[0;32m----> 9\u001b[0m spark \u001b[38;5;241m=\u001b[39m \u001b[43mSparkSession\u001b[49m\u001b[38;5;241;43m.\u001b[39;49m\u001b[43mbuilder\u001b[49m\u001b[38;5;241;43m.\u001b[39;49m\u001b[43mappName\u001b[49m\u001b[43m(\u001b[49m\u001b[38;5;124;43m'\u001b[39;49m\u001b[38;5;124;43mspark\u001b[39;49m\u001b[38;5;124;43m'\u001b[39;49m\u001b[43m)\u001b[49m\u001b[38;5;241;43m.\u001b[39;49m\u001b[43mgetOrCreate\u001b[49m\u001b[43m(\u001b[49m\u001b[43m)\u001b[49m\n\u001b[1;32m     11\u001b[0m \u001b[38;5;66;03m# Load data from CSV files into Spark DataFrames\u001b[39;00m\n\u001b[1;32m     12\u001b[0m Seoul_all \u001b[38;5;241m=\u001b[39m spark\u001b[38;5;241m.\u001b[39mread\u001b[38;5;241m.\u001b[39mformat(\u001b[38;5;124m\"\u001b[39m\u001b[38;5;124mcsv\u001b[39m\u001b[38;5;124m\"\u001b[39m)\u001b[38;5;241m.\u001b[39moption(\u001b[38;5;124m\"\u001b[39m\u001b[38;5;124mheader\u001b[39m\u001b[38;5;124m\"\u001b[39m, \u001b[38;5;124m\"\u001b[39m\u001b[38;5;124mtrue\u001b[39m\u001b[38;5;124m\"\u001b[39m)\u001b[38;5;241m.\u001b[39mload(\u001b[38;5;124m\"\u001b[39m\u001b[38;5;124m/Users/art/Airflow/dags/AirPollutionSeoul/Seoul_MY\u001b[39m\u001b[38;5;124m\"\u001b[39m)\n",
      "File \u001b[0;32m~/.julia/conda/3/x86_64/lib/python3.10/site-packages/pyspark/sql/session.py:497\u001b[0m, in \u001b[0;36mSparkSession.Builder.getOrCreate\u001b[0;34m(self)\u001b[0m\n\u001b[1;32m    495\u001b[0m     sparkConf\u001b[38;5;241m.\u001b[39mset(key, value)\n\u001b[1;32m    496\u001b[0m \u001b[38;5;66;03m# This SparkContext may be an existing one.\u001b[39;00m\n\u001b[0;32m--> 497\u001b[0m sc \u001b[38;5;241m=\u001b[39m \u001b[43mSparkContext\u001b[49m\u001b[38;5;241;43m.\u001b[39;49m\u001b[43mgetOrCreate\u001b[49m\u001b[43m(\u001b[49m\u001b[43msparkConf\u001b[49m\u001b[43m)\u001b[49m\n\u001b[1;32m    498\u001b[0m \u001b[38;5;66;03m# Do not update `SparkConf` for existing `SparkContext`, as it's shared\u001b[39;00m\n\u001b[1;32m    499\u001b[0m \u001b[38;5;66;03m# by all sessions.\u001b[39;00m\n\u001b[1;32m    500\u001b[0m session \u001b[38;5;241m=\u001b[39m SparkSession(sc, options\u001b[38;5;241m=\u001b[39m\u001b[38;5;28mself\u001b[39m\u001b[38;5;241m.\u001b[39m_options)\n",
      "File \u001b[0;32m~/.julia/conda/3/x86_64/lib/python3.10/site-packages/pyspark/context.py:515\u001b[0m, in \u001b[0;36mSparkContext.getOrCreate\u001b[0;34m(cls, conf)\u001b[0m\n\u001b[1;32m    513\u001b[0m \u001b[38;5;28;01mwith\u001b[39;00m SparkContext\u001b[38;5;241m.\u001b[39m_lock:\n\u001b[1;32m    514\u001b[0m     \u001b[38;5;28;01mif\u001b[39;00m SparkContext\u001b[38;5;241m.\u001b[39m_active_spark_context \u001b[38;5;129;01mis\u001b[39;00m \u001b[38;5;28;01mNone\u001b[39;00m:\n\u001b[0;32m--> 515\u001b[0m         \u001b[43mSparkContext\u001b[49m\u001b[43m(\u001b[49m\u001b[43mconf\u001b[49m\u001b[38;5;241;43m=\u001b[39;49m\u001b[43mconf\u001b[49m\u001b[43m \u001b[49m\u001b[38;5;129;43;01mor\u001b[39;49;00m\u001b[43m \u001b[49m\u001b[43mSparkConf\u001b[49m\u001b[43m(\u001b[49m\u001b[43m)\u001b[49m\u001b[43m)\u001b[49m\n\u001b[1;32m    516\u001b[0m     \u001b[38;5;28;01massert\u001b[39;00m SparkContext\u001b[38;5;241m.\u001b[39m_active_spark_context \u001b[38;5;129;01mis\u001b[39;00m \u001b[38;5;129;01mnot\u001b[39;00m \u001b[38;5;28;01mNone\u001b[39;00m\n\u001b[1;32m    517\u001b[0m     \u001b[38;5;28;01mreturn\u001b[39;00m SparkContext\u001b[38;5;241m.\u001b[39m_active_spark_context\n",
      "File \u001b[0;32m~/.julia/conda/3/x86_64/lib/python3.10/site-packages/pyspark/context.py:203\u001b[0m, in \u001b[0;36mSparkContext.__init__\u001b[0;34m(self, master, appName, sparkHome, pyFiles, environment, batchSize, serializer, conf, gateway, jsc, profiler_cls, udf_profiler_cls, memory_profiler_cls)\u001b[0m\n\u001b[1;32m    201\u001b[0m SparkContext\u001b[38;5;241m.\u001b[39m_ensure_initialized(\u001b[38;5;28mself\u001b[39m, gateway\u001b[38;5;241m=\u001b[39mgateway, conf\u001b[38;5;241m=\u001b[39mconf)\n\u001b[1;32m    202\u001b[0m \u001b[38;5;28;01mtry\u001b[39;00m:\n\u001b[0;32m--> 203\u001b[0m     \u001b[38;5;28;43mself\u001b[39;49m\u001b[38;5;241;43m.\u001b[39;49m\u001b[43m_do_init\u001b[49m\u001b[43m(\u001b[49m\n\u001b[1;32m    204\u001b[0m \u001b[43m        \u001b[49m\u001b[43mmaster\u001b[49m\u001b[43m,\u001b[49m\n\u001b[1;32m    205\u001b[0m \u001b[43m        \u001b[49m\u001b[43mappName\u001b[49m\u001b[43m,\u001b[49m\n\u001b[1;32m    206\u001b[0m \u001b[43m        \u001b[49m\u001b[43msparkHome\u001b[49m\u001b[43m,\u001b[49m\n\u001b[1;32m    207\u001b[0m \u001b[43m        \u001b[49m\u001b[43mpyFiles\u001b[49m\u001b[43m,\u001b[49m\n\u001b[1;32m    208\u001b[0m \u001b[43m        \u001b[49m\u001b[43menvironment\u001b[49m\u001b[43m,\u001b[49m\n\u001b[1;32m    209\u001b[0m \u001b[43m        \u001b[49m\u001b[43mbatchSize\u001b[49m\u001b[43m,\u001b[49m\n\u001b[1;32m    210\u001b[0m \u001b[43m        \u001b[49m\u001b[43mserializer\u001b[49m\u001b[43m,\u001b[49m\n\u001b[1;32m    211\u001b[0m \u001b[43m        \u001b[49m\u001b[43mconf\u001b[49m\u001b[43m,\u001b[49m\n\u001b[1;32m    212\u001b[0m \u001b[43m        \u001b[49m\u001b[43mjsc\u001b[49m\u001b[43m,\u001b[49m\n\u001b[1;32m    213\u001b[0m \u001b[43m        \u001b[49m\u001b[43mprofiler_cls\u001b[49m\u001b[43m,\u001b[49m\n\u001b[1;32m    214\u001b[0m \u001b[43m        \u001b[49m\u001b[43mudf_profiler_cls\u001b[49m\u001b[43m,\u001b[49m\n\u001b[1;32m    215\u001b[0m \u001b[43m        \u001b[49m\u001b[43mmemory_profiler_cls\u001b[49m\u001b[43m,\u001b[49m\n\u001b[1;32m    216\u001b[0m \u001b[43m    \u001b[49m\u001b[43m)\u001b[49m\n\u001b[1;32m    217\u001b[0m \u001b[38;5;28;01mexcept\u001b[39;00m \u001b[38;5;167;01mBaseException\u001b[39;00m:\n\u001b[1;32m    218\u001b[0m     \u001b[38;5;66;03m# If an error occurs, clean up in order to allow future SparkContext creation:\u001b[39;00m\n\u001b[1;32m    219\u001b[0m     \u001b[38;5;28mself\u001b[39m\u001b[38;5;241m.\u001b[39mstop()\n",
      "File \u001b[0;32m~/.julia/conda/3/x86_64/lib/python3.10/site-packages/pyspark/context.py:296\u001b[0m, in \u001b[0;36mSparkContext._do_init\u001b[0;34m(self, master, appName, sparkHome, pyFiles, environment, batchSize, serializer, conf, jsc, profiler_cls, udf_profiler_cls, memory_profiler_cls)\u001b[0m\n\u001b[1;32m    293\u001b[0m \u001b[38;5;28mself\u001b[39m\u001b[38;5;241m.\u001b[39menvironment[\u001b[38;5;124m\"\u001b[39m\u001b[38;5;124mPYTHONHASHSEED\u001b[39m\u001b[38;5;124m\"\u001b[39m] \u001b[38;5;241m=\u001b[39m os\u001b[38;5;241m.\u001b[39menviron\u001b[38;5;241m.\u001b[39mget(\u001b[38;5;124m\"\u001b[39m\u001b[38;5;124mPYTHONHASHSEED\u001b[39m\u001b[38;5;124m\"\u001b[39m, \u001b[38;5;124m\"\u001b[39m\u001b[38;5;124m0\u001b[39m\u001b[38;5;124m\"\u001b[39m)\n\u001b[1;32m    295\u001b[0m \u001b[38;5;66;03m# Create the Java SparkContext through Py4J\u001b[39;00m\n\u001b[0;32m--> 296\u001b[0m \u001b[38;5;28mself\u001b[39m\u001b[38;5;241m.\u001b[39m_jsc \u001b[38;5;241m=\u001b[39m jsc \u001b[38;5;129;01mor\u001b[39;00m \u001b[38;5;28;43mself\u001b[39;49m\u001b[38;5;241;43m.\u001b[39;49m\u001b[43m_initialize_context\u001b[49m\u001b[43m(\u001b[49m\u001b[38;5;28;43mself\u001b[39;49m\u001b[38;5;241;43m.\u001b[39;49m\u001b[43m_conf\u001b[49m\u001b[38;5;241;43m.\u001b[39;49m\u001b[43m_jconf\u001b[49m\u001b[43m)\u001b[49m\n\u001b[1;32m    297\u001b[0m \u001b[38;5;66;03m# Reset the SparkConf to the one actually used by the SparkContext in JVM.\u001b[39;00m\n\u001b[1;32m    298\u001b[0m \u001b[38;5;28mself\u001b[39m\u001b[38;5;241m.\u001b[39m_conf \u001b[38;5;241m=\u001b[39m SparkConf(_jconf\u001b[38;5;241m=\u001b[39m\u001b[38;5;28mself\u001b[39m\u001b[38;5;241m.\u001b[39m_jsc\u001b[38;5;241m.\u001b[39msc()\u001b[38;5;241m.\u001b[39mconf())\n",
      "File \u001b[0;32m~/.julia/conda/3/x86_64/lib/python3.10/site-packages/pyspark/context.py:421\u001b[0m, in \u001b[0;36mSparkContext._initialize_context\u001b[0;34m(self, jconf)\u001b[0m\n\u001b[1;32m    417\u001b[0m \u001b[38;5;250m\u001b[39m\u001b[38;5;124;03m\"\"\"\u001b[39;00m\n\u001b[1;32m    418\u001b[0m \u001b[38;5;124;03mInitialize SparkContext in function to allow subclass specific initialization\u001b[39;00m\n\u001b[1;32m    419\u001b[0m \u001b[38;5;124;03m\"\"\"\u001b[39;00m\n\u001b[1;32m    420\u001b[0m \u001b[38;5;28;01massert\u001b[39;00m \u001b[38;5;28mself\u001b[39m\u001b[38;5;241m.\u001b[39m_jvm \u001b[38;5;129;01mis\u001b[39;00m \u001b[38;5;129;01mnot\u001b[39;00m \u001b[38;5;28;01mNone\u001b[39;00m\n\u001b[0;32m--> 421\u001b[0m \u001b[38;5;28;01mreturn\u001b[39;00m \u001b[38;5;28;43mself\u001b[39;49m\u001b[38;5;241;43m.\u001b[39;49m\u001b[43m_jvm\u001b[49m\u001b[38;5;241;43m.\u001b[39;49m\u001b[43mJavaSparkContext\u001b[49m\u001b[43m(\u001b[49m\u001b[43mjconf\u001b[49m\u001b[43m)\u001b[49m\n",
      "File \u001b[0;32m~/.julia/conda/3/x86_64/lib/python3.10/site-packages/py4j/java_gateway.py:1587\u001b[0m, in \u001b[0;36mJavaClass.__call__\u001b[0;34m(self, *args)\u001b[0m\n\u001b[1;32m   1581\u001b[0m command \u001b[38;5;241m=\u001b[39m proto\u001b[38;5;241m.\u001b[39mCONSTRUCTOR_COMMAND_NAME \u001b[38;5;241m+\u001b[39m\\\n\u001b[1;32m   1582\u001b[0m     \u001b[38;5;28mself\u001b[39m\u001b[38;5;241m.\u001b[39m_command_header \u001b[38;5;241m+\u001b[39m\\\n\u001b[1;32m   1583\u001b[0m     args_command \u001b[38;5;241m+\u001b[39m\\\n\u001b[1;32m   1584\u001b[0m     proto\u001b[38;5;241m.\u001b[39mEND_COMMAND_PART\n\u001b[1;32m   1586\u001b[0m answer \u001b[38;5;241m=\u001b[39m \u001b[38;5;28mself\u001b[39m\u001b[38;5;241m.\u001b[39m_gateway_client\u001b[38;5;241m.\u001b[39msend_command(command)\n\u001b[0;32m-> 1587\u001b[0m return_value \u001b[38;5;241m=\u001b[39m \u001b[43mget_return_value\u001b[49m\u001b[43m(\u001b[49m\n\u001b[1;32m   1588\u001b[0m \u001b[43m    \u001b[49m\u001b[43manswer\u001b[49m\u001b[43m,\u001b[49m\u001b[43m \u001b[49m\u001b[38;5;28;43mself\u001b[39;49m\u001b[38;5;241;43m.\u001b[39;49m\u001b[43m_gateway_client\u001b[49m\u001b[43m,\u001b[49m\u001b[43m \u001b[49m\u001b[38;5;28;43;01mNone\u001b[39;49;00m\u001b[43m,\u001b[49m\u001b[43m \u001b[49m\u001b[38;5;28;43mself\u001b[39;49m\u001b[38;5;241;43m.\u001b[39;49m\u001b[43m_fqn\u001b[49m\u001b[43m)\u001b[49m\n\u001b[1;32m   1590\u001b[0m \u001b[38;5;28;01mfor\u001b[39;00m temp_arg \u001b[38;5;129;01min\u001b[39;00m temp_args:\n\u001b[1;32m   1591\u001b[0m     \u001b[38;5;28;01mif\u001b[39;00m \u001b[38;5;28mhasattr\u001b[39m(temp_arg, \u001b[38;5;124m\"\u001b[39m\u001b[38;5;124m_detach\u001b[39m\u001b[38;5;124m\"\u001b[39m):\n",
      "File \u001b[0;32m~/.julia/conda/3/x86_64/lib/python3.10/site-packages/py4j/protocol.py:326\u001b[0m, in \u001b[0;36mget_return_value\u001b[0;34m(answer, gateway_client, target_id, name)\u001b[0m\n\u001b[1;32m    324\u001b[0m value \u001b[38;5;241m=\u001b[39m OUTPUT_CONVERTER[\u001b[38;5;28mtype\u001b[39m](answer[\u001b[38;5;241m2\u001b[39m:], gateway_client)\n\u001b[1;32m    325\u001b[0m \u001b[38;5;28;01mif\u001b[39;00m answer[\u001b[38;5;241m1\u001b[39m] \u001b[38;5;241m==\u001b[39m REFERENCE_TYPE:\n\u001b[0;32m--> 326\u001b[0m     \u001b[38;5;28;01mraise\u001b[39;00m Py4JJavaError(\n\u001b[1;32m    327\u001b[0m         \u001b[38;5;124m\"\u001b[39m\u001b[38;5;124mAn error occurred while calling \u001b[39m\u001b[38;5;132;01m{0}\u001b[39;00m\u001b[38;5;132;01m{1}\u001b[39;00m\u001b[38;5;132;01m{2}\u001b[39;00m\u001b[38;5;124m.\u001b[39m\u001b[38;5;130;01m\\n\u001b[39;00m\u001b[38;5;124m\"\u001b[39m\u001b[38;5;241m.\u001b[39m\n\u001b[1;32m    328\u001b[0m         \u001b[38;5;28mformat\u001b[39m(target_id, \u001b[38;5;124m\"\u001b[39m\u001b[38;5;124m.\u001b[39m\u001b[38;5;124m\"\u001b[39m, name), value)\n\u001b[1;32m    329\u001b[0m \u001b[38;5;28;01melse\u001b[39;00m:\n\u001b[1;32m    330\u001b[0m     \u001b[38;5;28;01mraise\u001b[39;00m Py4JError(\n\u001b[1;32m    331\u001b[0m         \u001b[38;5;124m\"\u001b[39m\u001b[38;5;124mAn error occurred while calling \u001b[39m\u001b[38;5;132;01m{0}\u001b[39;00m\u001b[38;5;132;01m{1}\u001b[39;00m\u001b[38;5;132;01m{2}\u001b[39;00m\u001b[38;5;124m. Trace:\u001b[39m\u001b[38;5;130;01m\\n\u001b[39;00m\u001b[38;5;132;01m{3}\u001b[39;00m\u001b[38;5;130;01m\\n\u001b[39;00m\u001b[38;5;124m\"\u001b[39m\u001b[38;5;241m.\u001b[39m\n\u001b[1;32m    332\u001b[0m         \u001b[38;5;28mformat\u001b[39m(target_id, \u001b[38;5;124m\"\u001b[39m\u001b[38;5;124m.\u001b[39m\u001b[38;5;124m\"\u001b[39m, name, value))\n",
      "\u001b[0;31mPy4JJavaError\u001b[0m: An error occurred while calling None.org.apache.spark.api.java.JavaSparkContext.\n: java.net.BindException: Can't assign requested address: Service 'sparkDriver' failed after 16 retries (on a random free port)! Consider explicitly setting the appropriate binding address for the service 'sparkDriver' (for example spark.driver.bindAddress for SparkDriver) to the correct binding address.\n\tat java.base/sun.nio.ch.Net.bind0(Native Method)\n\tat java.base/sun.nio.ch.Net.bind(Net.java:565)\n\tat java.base/sun.nio.ch.ServerSocketChannelImpl.netBind(ServerSocketChannelImpl.java:344)\n\tat java.base/sun.nio.ch.ServerSocketChannelImpl.bind(ServerSocketChannelImpl.java:301)\n\tat io.netty.channel.socket.nio.NioServerSocketChannel.doBind(NioServerSocketChannel.java:141)\n\tat io.netty.channel.AbstractChannel$AbstractUnsafe.bind(AbstractChannel.java:562)\n\tat io.netty.channel.DefaultChannelPipeline$HeadContext.bind(DefaultChannelPipeline.java:1334)\n\tat io.netty.channel.AbstractChannelHandlerContext.invokeBind(AbstractChannelHandlerContext.java:600)\n\tat io.netty.channel.AbstractChannelHandlerContext.bind(AbstractChannelHandlerContext.java:579)\n\tat io.netty.channel.DefaultChannelPipeline.bind(DefaultChannelPipeline.java:973)\n\tat io.netty.channel.AbstractChannel.bind(AbstractChannel.java:260)\n\tat io.netty.bootstrap.AbstractBootstrap$2.run(AbstractBootstrap.java:356)\n\tat io.netty.util.concurrent.AbstractEventExecutor.runTask(AbstractEventExecutor.java:174)\n\tat io.netty.util.concurrent.AbstractEventExecutor.safeExecute(AbstractEventExecutor.java:167)\n\tat io.netty.util.concurrent.SingleThreadEventExecutor.runAllTasks(SingleThreadEventExecutor.java:470)\n\tat io.netty.channel.nio.NioEventLoop.run(NioEventLoop.java:569)\n\tat io.netty.util.concurrent.SingleThreadEventExecutor$4.run(SingleThreadEventExecutor.java:997)\n\tat io.netty.util.internal.ThreadExecutorMap$2.run(ThreadExecutorMap.java:74)\n\tat io.netty.util.concurrent.FastThreadLocalRunnable.run(FastThreadLocalRunnable.java:30)\n\tat java.base/java.lang.Thread.run(Thread.java:1570)\n"
     ]
    }
   ],
   "source": [
    "import os\n",
    "import geopandas as gpd\n",
    "import matplotlib.pyplot as plt\n",
    "from pyspark.sql import SparkSession\n",
    "import pyspark.pandas as ps\n",
    "from matplotlib.colors import Normalize\n",
    "\n",
    "# Initialize Spark session\n",
    "spark = SparkSession.builder.appName('spark').getOrCreate()\n",
    "\n",
    "# Load data from CSV files into Spark DataFrames\n",
    "Seoul_all = spark.read.format(\"csv\").option(\"header\", \"true\").load(\"/Users/art/Airflow/dags/AirPollutionSeoul/Seoul_MY\")\n",
    "Seoul2017 = spark.read.format(\"csv\").option(\"header\", \"true\").load(\"/Users/art/Airflow/dags/AirPollutionSeoul/2017\")\n",
    "Seoul2018 = spark.read.format(\"csv\").option(\"header\", \"true\").load(\"/Users/art/Airflow/dags/AirPollutionSeoul/2018\")\n",
    "Seoul2019 = spark.read.format(\"csv\").option(\"header\", \"true\").load(\"/Users/art/Airflow/dags/AirPollutionSeoul/2019\")\n",
    "\n",
    "\n",
    "pollution_columns = ['SO2', 'NO2', 'O3', 'CO', 'PM10', 'PM25']\n",
    "for col in pollution_columns:\n",
    "    Seoul_all = Seoul_all.withColumn(col, Seoul_all[col].cast('float'))\n",
    "    Seoul2017 = Seoul2017.withColumn(col, Seoul2017[col].cast('float'))\n",
    "    Seoul2018 = Seoul2018.withColumn(col, Seoul2018[col].cast('float'))\n",
    "    Seoul2019 = Seoul2019.withColumn(col, Seoul2019[col].cast('float'))\n",
    "# Group by 'Address' and calculate the average for each pollution column\n",
    "\n",
    "# # Load GeoJSON data into a GeoDataFrame\n",
    "tempSeoulGep = gpd.read_file(\"/Users/art/Airflow/plugins/seoul_municipalities_geo.json\")\n",
    "\n",
    "\n",
    "Seoul_all = Seoul_all.toPandas()\n",
    "Seoul2017 = Seoul2017.toPandas()\n",
    "Seoul2018 = Seoul2018.toPandas()\n",
    "Seoul2019 = Seoul2019.toPandas()\n",
    "\n",
    "\n",
    "Seoul_all =Seoul_all.drop([\"Measurement date\",\"Station code\" , \"Station code\",\"Address\",\"Latitude\",\"Longitude\"],axis=1)\n",
    "Seoul2017 = Seoul2017[Seoul2017[\"Measurement date\"]==\"2017\"].drop(\"Measurement date\",axis=1)\\\n",
    "    .groupby([\"Station code\",\"Address\",\"Latitude\",\"Longitude\"]).mean().reset_index()\n",
    "Seoul2018 = Seoul2018[Seoul2018[\"Measurement date\"]==\"2018\"].drop(\"Measurement date\",axis=1)\\\n",
    "    .groupby([\"Station code\",\"Address\",\"Latitude\",\"Longitude\"]).mean().reset_index()\n",
    "Seoul2019 = Seoul2019[Seoul2019[\"Measurement date\"]==\"2019\"].drop(\"Measurement date\",axis=1)\\\n",
    "    .groupby([\"Station code\",\"Address\",\"Latitude\",\"Longitude\"]).mean().reset_index()\n",
    "maxdata=Seoul_all.iloc[:,0:].max()\n",
    "mindata=Seoul_all.iloc[:,0:].min()\n",
    "\n",
    "SeoulGeo_pollution2017 = tempSeoulGep.merge(Seoul2017, left_on='SIG_ENG_NM', right_on='Address').drop(\"Address\", axis=1)\n",
    "SeoulGeo_pollution2018 = tempSeoulGep.merge(Seoul2018, left_on='SIG_ENG_NM', right_on='Address').drop(\"Address\", axis=1)\n",
    "SeoulGeo_pollution2019 = tempSeoulGep.merge(Seoul2019, left_on='SIG_ENG_NM', right_on='Address').drop(\"Address\", axis=1)\n",
    "\n",
    "\n",
    "\n",
    "Pollution_key = [\"PM25\", \"PM10\",\"SO2\",\"CO\"]\n",
    "f, axes = plt.subplots(figsize=(5, 15), ncols = 3, nrows = 4,layout=\"compressed\")\n",
    "\n",
    "for i,keys in enumerate(Pollution_key): \n",
    "    norm = Normalize(vmin=vmin, vmax=vmax)\n",
    "    SeoulGeo_pollution2017.plot(ax=axes[i][0], column= keys, cmap='OrRd', legend=True, \n",
    "                                legend_kwds={\"label\": \"\", \"orientation\": \"horizontal\"})\n",
    "    SeoulGeo_pollution2018.plot(ax=axes[i][1], column=keys, cmap='OrRd', legend=True, \n",
    "                                legend_kwds={\"label\": keys, \"orientation\": \"horizontal\"})\n",
    "    SeoulGeo_pollution2019.plot(ax=axes[i][2], column= keys , cmap='OrRd', legend=True, \n",
    "                                legend_kwds={\"label\": \"\", \"orientation\": \"horizontal\"} ,)\n",
    "\n",
    "for i, ax_row in enumerate(axes):\n",
    "    for j, ax in enumerate(ax_row):\n",
    "        ax.set_xticks([])\n",
    "        ax.set_yticks([])\n",
    "        if i ==0:\n",
    "            if j == 0:\n",
    "                ax.set_title(\"2017\" , fontsize=12)\n",
    "            elif j==1:\n",
    "                ax.set_title(\"2018\" , fontsize=12)\n",
    "            else:\n",
    "                ax.set_title(\"2019\" , fontsize=12)\n",
    "        else:\n",
    "            ax.set_title(\" \")\n"
   ]
  },
  {
   "cell_type": "code",
   "execution_count": 100,
   "metadata": {},
   "outputs": [
    {
     "data": {
      "image/png": "[encoded data removed]",
      "text/plain": [
       "<Figure size 500x1500 with 24 Axes>"
      ]
     },
     "metadata": {},
     "output_type": "display_data"
    }
   ],
   "source": [
    "from matplotlib.colors import Normalize\n",
    "\n",
    "Pollution_key = [\"PM25\", \"PM10\",\"SO2\",\"CO\"]\n",
    "f, axes = plt.subplots(figsize=(5, 15), ncols = 3, nrows = 4,layout=\"compressed\")\n",
    "\n",
    "for i,keys in enumerate(Pollution_key): \n",
    "    vmin = SeoulGeo_pollution2017[keys].min()\n",
    "    vmax = SeoulGeo_pollution2017[keys].max()\n",
    "    norm = Normalize(vmin=vmin, vmax=vmax)\n",
    "    SeoulGeo_pollution2017.plot(ax=axes[i][0], column= keys, cmap='OrRd', legend=True, \n",
    "                                legend_kwds={\"label\": \"\", \"orientation\": \"horizontal\"})\n",
    "    SeoulGeo_pollution2018.plot(ax=axes[i][1], column=keys, cmap='OrRd', legend=True, \n",
    "                                legend_kwds={\"label\": keys, \"orientation\": \"horizontal\"})\n",
    "    SeoulGeo_pollution2019.plot(ax=axes[i][2], column= keys , cmap='OrRd', legend=True, \n",
    "                                legend_kwds={\"label\": \"\", \"orientation\": \"horizontal\"})\n"
   ]
  },
  {
   "cell_type": "code",
   "execution_count": null,
   "metadata": {},
   "outputs": [],
   "source": [
    "Seoul2017_pd = grouped_df.toPandas()\n",
    "SeoulGeo_pollution2017_spark = tempSeoulGep.merge(Seoul2017_pd, left_on='SIG_ENG_NM', right_on='Address').drop(\"Address\", axis=1)\n",
    "SeoulGeo_pollution2017_spark\n"
   ]
  },
  {
   "cell_type": "code",
   "execution_count": 101,
   "metadata": {},
   "outputs": [
    {
     "data": {
      "text/html": [
       "<div>\n",
       "<style scoped>\n",
       "    .dataframe tbody tr th:only-of-type {\n",
       "        vertical-align: middle;\n",
       "    }\n",
       "\n",
       "    .dataframe tbody tr th {\n",
       "        vertical-align: top;\n",
       "    }\n",
       "\n",
       "    .dataframe thead th {\n",
       "        text-align: right;\n",
       "    }\n",
       "</style>\n",
       "<table border=\"1\" class=\"dataframe\">\n",
       "  <thead>\n",
       "    <tr style=\"text-align: right;\">\n",
       "      <th></th>\n",
       "      <th>SO2</th>\n",
       "      <th>NO2</th>\n",
       "      <th>O3</th>\n",
       "      <th>CO</th>\n",
       "      <th>PM10</th>\n",
       "      <th>PM25</th>\n",
       "    </tr>\n",
       "  </thead>\n",
       "  <tbody>\n",
       "    <tr>\n",
       "      <th>0</th>\n",
       "      <td>0.011</td>\n",
       "      <td>0.044</td>\n",
       "      <td>0.035</td>\n",
       "      <td>0.7</td>\n",
       "      <td>76.0</td>\n",
       "      <td>49.0</td>\n",
       "    </tr>\n",
       "    <tr>\n",
       "      <th>1</th>\n",
       "      <td>0.014</td>\n",
       "      <td>0.050</td>\n",
       "      <td>0.034</td>\n",
       "      <td>0.7</td>\n",
       "      <td>80.0</td>\n",
       "      <td>52.0</td>\n",
       "    </tr>\n",
       "    <tr>\n",
       "      <th>2</th>\n",
       "      <td>0.011</td>\n",
       "      <td>0.058</td>\n",
       "      <td>0.034</td>\n",
       "      <td>0.6</td>\n",
       "      <td>71.0</td>\n",
       "      <td>47.0</td>\n",
       "    </tr>\n",
       "    <tr>\n",
       "      <th>3</th>\n",
       "      <td>0.013</td>\n",
       "      <td>0.077</td>\n",
       "      <td>0.007</td>\n",
       "      <td>0.8</td>\n",
       "      <td>73.0</td>\n",
       "      <td>49.0</td>\n",
       "    </tr>\n",
       "    <tr>\n",
       "      <th>4</th>\n",
       "      <td>0.014</td>\n",
       "      <td>0.071</td>\n",
       "      <td>0.004</td>\n",
       "      <td>0.9</td>\n",
       "      <td>66.0</td>\n",
       "      <td>48.0</td>\n",
       "    </tr>\n",
       "    <tr>\n",
       "      <th>...</th>\n",
       "      <td>...</td>\n",
       "      <td>...</td>\n",
       "      <td>...</td>\n",
       "      <td>...</td>\n",
       "      <td>...</td>\n",
       "      <td>...</td>\n",
       "    </tr>\n",
       "    <tr>\n",
       "      <th>473007</th>\n",
       "      <td>0.003</td>\n",
       "      <td>0.028</td>\n",
       "      <td>0.013</td>\n",
       "      <td>0.5</td>\n",
       "      <td>23.0</td>\n",
       "      <td>17.0</td>\n",
       "    </tr>\n",
       "    <tr>\n",
       "      <th>473008</th>\n",
       "      <td>0.003</td>\n",
       "      <td>0.025</td>\n",
       "      <td>0.015</td>\n",
       "      <td>0.4</td>\n",
       "      <td>25.0</td>\n",
       "      <td>19.0</td>\n",
       "    </tr>\n",
       "    <tr>\n",
       "      <th>473009</th>\n",
       "      <td>0.003</td>\n",
       "      <td>0.023</td>\n",
       "      <td>0.015</td>\n",
       "      <td>0.4</td>\n",
       "      <td>24.0</td>\n",
       "      <td>17.0</td>\n",
       "    </tr>\n",
       "    <tr>\n",
       "      <th>473010</th>\n",
       "      <td>0.003</td>\n",
       "      <td>0.040</td>\n",
       "      <td>0.004</td>\n",
       "      <td>0.5</td>\n",
       "      <td>25.0</td>\n",
       "      <td>18.0</td>\n",
       "    </tr>\n",
       "    <tr>\n",
       "      <th>473011</th>\n",
       "      <td>0.003</td>\n",
       "      <td>0.037</td>\n",
       "      <td>0.005</td>\n",
       "      <td>0.5</td>\n",
       "      <td>27.0</td>\n",
       "      <td>18.0</td>\n",
       "    </tr>\n",
       "  </tbody>\n",
       "</table>\n",
       "<p>473012 rows × 6 columns</p>\n",
       "</div>"
      ],
      "text/plain": [
       "          SO2    NO2     O3   CO  PM10  PM25\n",
       "0       0.011  0.044  0.035  0.7  76.0  49.0\n",
       "1       0.014  0.050  0.034  0.7  80.0  52.0\n",
       "2       0.011  0.058  0.034  0.6  71.0  47.0\n",
       "3       0.013  0.077  0.007  0.8  73.0  49.0\n",
       "4       0.014  0.071  0.004  0.9  66.0  48.0\n",
       "...       ...    ...    ...  ...   ...   ...\n",
       "473007  0.003  0.028  0.013  0.5  23.0  17.0\n",
       "473008  0.003  0.025  0.015  0.4  25.0  19.0\n",
       "473009  0.003  0.023  0.015  0.4  24.0  17.0\n",
       "473010  0.003  0.040  0.004  0.5  25.0  18.0\n",
       "473011  0.003  0.037  0.005  0.5  27.0  18.0\n",
       "\n",
       "[473012 rows x 6 columns]"
      ]
     },
     "execution_count": 101,
     "metadata": {},
     "output_type": "execute_result"
    }
   ],
   "source": [
    "Seoul_all"
   ]
  },
  {
   "cell_type": "code",
   "execution_count": 43,
   "metadata": {},
   "outputs": [],
   "source": [
    "from pyspark.sql.functions import avg\n",
    "\n",
    "# Convert the columns to numeric types (if they are read as strings)\n",
    "pollution_columns = ['SO2', 'NO2', 'O3', 'CO', 'PM10', 'PM25']\n",
    "for col in pollution_columns:\n",
    "    Seoul2017 = Seoul2017.withColumn(col, Seoul2017[col].cast('float'))\n",
    "\n",
    "# Group by 'Address' and calculate the average for each pollution column\n",
    "grouped_df = Seoul2017.groupBy('Address').agg(\n",
    "    avg('SO2').alias('avg_SO2'),\n",
    "    avg('NO2').alias('avg_NO2'),\n",
    "    avg('O3').alias('avg_O3'),\n",
    "    avg('CO').alias('avg_CO'),\n",
    "    avg('PM10').alias('avg_PM10'),\n",
    "    avg('PM25').alias('avg_PM25')\n",
    ")"
   ]
  },
  {
   "cell_type": "code",
   "execution_count": null,
   "metadata": {},
   "outputs": [],
   "source": [
    "Seoul2017_pd = grouped_df.toPandas()\n",
    "SeoulGeo_pollution2017_spark = tempSeoulGep.merge(Seoul2017_pd, left_on='SIG_ENG_NM', right_on='Address').drop(\"Address\", axis=1)\n",
    "SeoulGeo_pollution2017_spark\n"
   ]
  },
  {
   "cell_type": "code",
   "execution_count": null,
   "metadata": {},
   "outputs": [],
   "source": [
    "import geopandas as gpd\n",
    "import matplotlib.pyplot as plt\n",
    "import pyspark.pandas "
   ]
  },
  {
   "cell_type": "code",
   "execution_count": null,
   "metadata": {},
   "outputs": [],
   "source": []
  },
  {
   "cell_type": "code",
   "execution_count": null,
   "metadata": {},
   "outputs": [],
   "source": [
    "import geopandas as gpd\n",
    "import pandas as pd\n",
    "import matplotlib.pyplot as plt\n",
    "\n",
    "Seoul = pd.read_csv(\"/Users/art/Airflow/dags/AirPollutionSeoul/Measurement_summary.csv\")\n",
    "Seoulmod = Seoul.copy()\n",
    "Seoulmod[\"Measurement date\"]=Seoulmod[\"Measurement date\"].str.slice(0,4)\n",
    "Seoulmod[\"Address\"]=Seoulmod[\"Address\"].str.split(',').str[2].str.strip()\n",
    "\n",
    "Seoulall =Seoulmod.drop([\"Measurement date\"],axis=1).groupby('Address').mean().reset_index()\n",
    "Seoul2017 = Seoulmod[Seoulmod[\"Measurement date\"]==\"2017\"].drop(\"Measurement date\",axis=1)\\\n",
    "    .groupby([\"Station code\",\"Address\",\"Latitude\",\"Longitude\"]).mean().reset_index()\n",
    "Seoul2018 = Seoulmod[Seoulmod[\"Measurement date\"]==\"2018\"].drop(\"Measurement date\",axis=1)\\\n",
    "    .groupby([\"Station code\",\"Address\",\"Latitude\",\"Longitude\"]).mean().reset_index()\n",
    "Seoul2019 = Seoulmod[Seoulmod[\"Measurement date\"]==\"2019\"].drop(\"Measurement date\",axis=1)\\\n",
    "    .groupby([\"Station code\",\"Address\",\"Latitude\",\"Longitude\"]).mean().reset_index()\n",
    "\n",
    "tempSeoulGep=gpd.read_file(\"/Users/art/Airflow/plugins/seoul_municipalities_geo.json\")\n",
    "SeoulGeo_pollution2017 = tempSeoulGep.merge(Seoul2017, left_on='SIG_ENG_NM', right_on='Address').drop(\"Address\",axis=1)\n",
    "SeoulGeo_pollution2018 = tempSeoulGep.merge(Seoul2018, left_on='SIG_ENG_NM', right_on='Address').drop(\"Address\",axis=1)\n",
    "SeoulGeo_pollution2019 = tempSeoulGep.merge(Seoul2019, left_on='SIG_ENG_NM', right_on='Address').drop(\"Address\",axis=1)\n",
    "maxdata=Seoulall.iloc[:,1:].max()\n",
    "mindata=Seoulall.iloc[:,1:].min()"
   ]
  },
  {
   "cell_type": "code",
   "execution_count": null,
   "metadata": {},
   "outputs": [],
   "source": [
    "SeoulGeo_pollution2017_spark.plot(column='avg_PM25', cmap='OrRd', legend=True, legend_kwds={\"label\": \"\", \"orientation\": \"horizontal\"},vmin = 0,vmax = 50)\n"
   ]
  },
  {
   "cell_type": "code",
   "execution_count": null,
   "metadata": {},
   "outputs": [],
   "source": [
    "import geopandas as gpd\n",
    "import matplotlib.pyplot as plt\n",
    "\n",
    "spark = SparkSession.builder.appName('spark').getOrCreate() \n",
    "\n",
    "Seoul2017 = spark.read.format(\"csv\").option(\"header\", \"true\").load(\"2017\")\n",
    "Seoul2018 = spark.read.format(\"csv\").option(\"header\", \"true\").load(\"2018\")\n",
    "Seoul2019 = spark.read.format(\"csv\").option(\"header\", \"true\").load(\"2019\")\n",
    "tempSeoulGep = spark.read.json(\"../plugins/seoul_municipalities_geo.json\")\n",
    "\n",
    "SeoulGeo_pollution2017 = tempSeoulGep.join(Seoul2017, tempSeoulGep['SIG_ENG_NM']== Seoul2017[\"Address\"], \"inner\").drop(\"Address\")\n",
    "# SeoulGeo_pollution2018 = tempSeoulGep.join(Seoul2018, tempSeoulGep['SIG_ENG_NM']==Seoul2018[\"Address\"], \"inner\").drop(\"Address\")\n",
    "# SeoulGeo_pollution2019 = tempSeoulGep.join(Seoul2019, tempSeoulGep['SIG_ENG_NM']== Seoul2019[\"Address\"], \"inner\").drop(\"Address\")"
   ]
  },
  {
   "cell_type": "code",
   "execution_count": null,
   "metadata": {},
   "outputs": [],
   "source": [
    "Seoul2017 = spark.read.format(\"csv\").option(\"header\", \"true\").load(\"2017\").pandas_api()\n",
    "tempSeoulGep=gpd.read_file(\"../plugins/seoul_municipalities_geo.json\")\n",
    "\n",
    "# SeoulGeo_pollution2017 = tempSeoulGep.merge(Seoul2017, left_on='SIG_ENG_NM', right_on='Address').drop(\"Address\",axis=1)"
   ]
  },
  {
   "cell_type": "code",
   "execution_count": null,
   "metadata": {},
   "outputs": [],
   "source": [
    "tempSeoulGep.merge(Seoul2017, left_on='SIG_ENG_NM', right_on='Address').drop(\"Address\",axis=1)"
   ]
  },
  {
   "cell_type": "code",
   "execution_count": null,
   "metadata": {},
   "outputs": [],
   "source": [
    "import pyspark.pandas as ps\n",
    "\n",
    "\n",
    "Seoul2017 = spark.read.format(\"csv\").option(\"header\", \"true\").load(\"2017\")"
   ]
  },
  {
   "cell_type": "code",
   "execution_count": null,
   "metadata": {},
   "outputs": [],
   "source": [
    "ps.DataFrame(Seoul2017).dtypes"
   ]
  },
  {
   "cell_type": "code",
   "execution_count": null,
   "metadata": {},
   "outputs": [],
   "source": [
    "import pandas as pd \n",
    "import seaborn as sns\n",
    "import matplotlib.pyplot as plt\n",
    "import numpy as np\n",
    "from pyspark.sql import SparkSession\n",
    "from pyspark.sql.functions import col, split, trim, substring \n",
    "\n",
    "spark_1 = SparkSession.builder.appName('test').getOrCreate() \n",
    "# Seoul = spark.read.format(\"csv\").option(\"header\", \"true\").load(\"/opt/airflow/dags/AirPollutionSeoul/all\").drop([\"Latitude\",\"Longitude\",\"Station code\"])\n",
    "\n",
    "\n",
    "# Seoul = Seoul.withColumn(\"M\", substring(\"Measurement date\", 6, 2))\n",
    "# Seoul = Seoul.withColumn(\"Y\", substring(\"Measurement date\", 1, 4))\n",
    "# Seoul= Seoul.drop(\"Measurement date\")\n",
    "\n",
    "# pre_plot =  Seoul.drop(\"Y\").groupby([\"Address\",\"M\"]).mean()\n",
    "# plot_temp= pre_plot.drop([\"Address\",\"M\"],axis=1)\n",
    "# fig1 = plt.figure(figsize=(12,5))\n",
    "# corr= plot_temp.corr()\n",
    "# matrix = np.triu(corr)\n",
    "# cmap = sns.diverging_palette(230, 20, as_cmap=True)\n",
    "# sns.heatmap(corr,annot=True, mask=matrix, cmap=cmap)\n",
    "# plt.savefig(\"/opt/airflow/dags/correlation1.png\")\n",
    "\n",
    "# fig,axes = plt.subplots(figsize=(6, 6), ncols=2, nrows=3,layout=\"compressed\")\n",
    "# sns.regplot(x=\"PM2.5\",y=\"PM10\",data = plot_temp, ax=axes[0,0],line_kws={\"color\": \"red\"})\n",
    "# sns.residplot(x=\"PM2.5\",y=\"PM10\",data = plot_temp, ax=axes[0,1])\n",
    "# sns.regplot(x=\"O3\",y=\"CO\",data = plot_temp, ax=axes[1,0],line_kws={\"color\": \"red\"})\n",
    "# sns.residplot(x=\"O3\",y=\"CO\",data = plot_temp, ax=axes[1,1])\n",
    "# sns.regplot(x=\"O3\",y=\"SO2\",data = plot_temp, ax=axes[2,0],line_kws={\"color\": \"red\"})\n",
    "# sns.residplot(x=\"O3\",y=\"SO2\",data = plot_temp, ax=axes[2,1])\n",
    "# plt.savefig(\"/opt/airflow/dags/correlation2.png\")\n"
   ]
  },
  {
   "cell_type": "code",
   "execution_count": null,
   "metadata": {},
   "outputs": [],
   "source": [
    "import os \n",
    "os.getcwd()"
   ]
  },
  {
   "cell_type": "code",
   "execution_count": null,
   "metadata": {},
   "outputs": [],
   "source": [
    "import pandas as pd \n",
    "import seaborn as sns\n",
    "import matplotlib.pyplot as plt\n",
    "import numpy as np\n",
    "from pyspark.sql import SparkSession\n",
    "from pyspark.sql.functions import col, split, trim, substring \n",
    "\n",
    "spark = SparkSession.builder.appName('corelation_analysis').getOrCreate() \n",
    "Seoul = spark.read.format(\"csv\").option(\"header\", \"true\").load(\"./AirPollutionSeoul/Seoul_MY\").drop(\"Latitude\",\"Longitude\",\"Station code\")\n",
    "\n",
    "\n",
    "# Seoul = Seoul.withColumn(\"M\", substring(\"Measurement date\", 5, 2))\n",
    "# Seoul = Seoul.withColumn(\"Y\", substring(\"Measurement date\", 1, 4))\n",
    "# Seoul= Seoul.drop(\"Measurement date\")\n",
    "\n",
    "Seoul_MY =  Seoul.withColumn(\"Measurement date\", substring(col(\"Measurement date\"), 1, 7))\n",
    "Seoul = Seoul.withColumn(\"M\", substring(\"Measurement date\", 6, 2).cast(\"int\"))\n",
    "Seoul = Seoul.withColumn(\"Y\", substring(\"Measurement date\", 1, 4).cast(\"int\"))\n",
    "\n",
    "Seoul.show()"
   ]
  },
  {
   "cell_type": "code",
   "execution_count": null,
   "metadata": {},
   "outputs": [],
   "source": [
    "pre_plot =  Seoul.drop(\"Y\").groupby(\"Address\",\"M\",\"PM25\").mean()\n",
    "# plot_temp= pre_plot.drop([\"Address\",\"M\"])\n",
    "# fig1 = plt.figure(figsize=(12,5))\n",
    "# corr= plot_temp.corr()\n",
    "# matrix = np.triu(corr)\n",
    "# cmap = sns.diverging_palette(230, 20, as_cmap=True)\n",
    "# sns.heatmap(corr,annot=True, mask=matrix, cmap=cmap)\n",
    "\n",
    "pre_plot.show()\n",
    "\n"
   ]
  },
  {
   "cell_type": "code",
   "execution_count": null,
   "metadata": {},
   "outputs": [],
   "source": [
    "from pyspark.sql.functions import col, avg\n",
    "\n",
    "# List all columns except \"Address\" and \"M\"\n",
    "columns_to_avg = [c for c in Seoul.columns if c not in [\"Address\", \"M\"]]\n",
    "\n",
    "# Create a list of average aggregations for the columns\n",
    "avg_expressions = [avg(col(c)).alias(f\"{c}\") for c in columns_to_avg]\n",
    "\n",
    "# Perform groupBy and aggregation\n",
    "pre_plot = Seoul.groupBy(\"Address\", \"M\").agg(*avg_expressions)"
   ]
  },
  {
   "cell_type": "code",
   "execution_count": null,
   "metadata": {},
   "outputs": [],
   "source": [
    "pre_plot"
   ]
  },
  {
   "cell_type": "code",
   "execution_count": null,
   "metadata": {},
   "outputs": [],
   "source": [
    "pre_plot =  Seoul.drop(\"Y\").groupby([\"Address\",\"M\"]).mean()\n",
    "plot_temp= pre_plot.drop([\"Address\",\"M\"],axis=1)\n",
    "fig1 = plt.figure(figsize=(12,5))\n",
    "corr= plot_temp.corr()\n",
    "matrix = np.triu(corr)\n",
    "cmap = sns.diverging_palette(230, 20, as_cmap=True)\n",
    "sns.heatmap(corr,annot=True, mask=matrix, cmap=cmap)\n",
    "plt.savefig(\"/opt/airflow/dags/correlation1.png\")\n",
    "\n",
    "fig,axes = plt.subplots(figsize=(6, 6), ncols=2, nrows=3,layout=\"compressed\")\n",
    "sns.regplot(x=\"PM2.5\",y=\"PM10\",data = plot_temp, ax=axes[0,0],line_kws={\"color\": \"red\"})\n",
    "sns.residplot(x=\"PM2.5\",y=\"PM10\",data = plot_temp, ax=axes[0,1])\n",
    "sns.regplot(x=\"O3\",y=\"CO\",data = plot_temp, ax=axes[1,0],line_kws={\"color\": \"red\"})\n",
    "sns.residplot(x=\"O3\",y=\"CO\",data = plot_temp, ax=axes[1,1])\n",
    "sns.regplot(x=\"O3\",y=\"SO2\",data = plot_temp, ax=axes[2,0],line_kws={\"color\": \"red\"})\n",
    "sns.residplot(x=\"O3\",y=\"SO2\",data = plot_temp, ax=axes[2,1])\n",
    "  "
   ]
  },
  {
   "cell_type": "code",
   "execution_count": null,
   "metadata": {},
   "outputs": [],
   "source": [
    "import pandas as pd"
   ]
  },
  {
   "cell_type": "code",
   "execution_count": null,
   "metadata": {},
   "outputs": [],
   "source": [
    "df = pd.read_csv(\"/users/art/Desktop/data.csv\", encoding='ISO-8859-1')\n"
   ]
  },
  {
   "cell_type": "code",
   "execution_count": null,
   "metadata": {},
   "outputs": [],
   "source": [
    "df[\"InvoiceDate\"] =df[\"InvoiceDate\"].str.slice(3,4)"
   ]
  },
  {
   "cell_type": "code",
   "execution_count": null,
   "metadata": {},
   "outputs": [],
   "source": [
    "test =df.groupby(\"InvoiceDate\").count()"
   ]
  },
  {
   "cell_type": "code",
   "execution_count": null,
   "metadata": {},
   "outputs": [],
   "source": [
    "test"
   ]
  },
  {
   "cell_type": "code",
   "execution_count": null,
   "metadata": {},
   "outputs": [],
   "source": [
    "import matplotlib.pyplot as plt"
   ]
  },
  {
   "cell_type": "code",
   "execution_count": null,
   "metadata": {},
   "outputs": [],
   "source": [
    "plt.plot(test[\"InvoiceDate\"],test[\"Quantity\"])"
   ]
  },
  {
   "cell_type": "code",
   "execution_count": null,
   "metadata": {},
   "outputs": [],
   "source": [
    "plt.plot(test[\"Quantity\"])"
   ]
  },
  {
   "cell_type": "code",
   "execution_count": 1,
   "metadata": {},
   "outputs": [],
   "source": [
    "import pandas as pd \n",
    "import seaborn as sns\n",
    "import matplotlib.pyplot as plt\n",
    "import numpy as np\n",
    "Seoulmod = pd.read_csv(\"/Users/art/Airflow/dags/AirPollutionSeoul/Measurement_summary.csv\")\n",
    "Seoulmod[\"Measurement date\"]=Seoulmod[\"Measurement date\"].str.slice(0,7)\n",
    "Seoulmod[\"Address\"]=Seoulmod[\"Address\"].str.split(',').str[2].str.strip()\n",
    "Seoulmod = Seoulmod.drop([\"Latitude\",\"Longitude\",\"Station code\"],axis=1)\n",
    "Seoulmod.insert(0,\"M\",Seoulmod[\"Measurement date\"].str.slice(5,7),True)\n",
    "Seoulmod.insert(1,\"Y\",Seoulmod[\"Measurement date\"].str.slice(0,4),True)\n",
    "Seoulmod.drop(\"Measurement date\",axis=1,inplace=True)\n",
    "pre_plot = Seoulmod.drop([\"Y\"],axis=1).groupby([\"Address\",\"M\"],as_index = False).mean()"
   ]
  },
  {
   "cell_type": "code",
   "execution_count": 7,
   "metadata": {},
   "outputs": [],
   "source": [
    "a = pd.read_csv(\"/Users/art/Airflow/dags/AirPollutionSeoul/Seoul_MY/part-00000-4c4c62b1-ff6f-4f6f-8c6f-88d468189387-c000.csv\")"
   ]
  },
  {
   "cell_type": "code",
   "execution_count": 15,
   "metadata": {},
   "outputs": [
    {
     "data": {
      "text/html": [
       "<div>\n",
       "<style scoped>\n",
       "    .dataframe tbody tr th:only-of-type {\n",
       "        vertical-align: middle;\n",
       "    }\n",
       "\n",
       "    .dataframe tbody tr th {\n",
       "        vertical-align: top;\n",
       "    }\n",
       "\n",
       "    .dataframe thead th {\n",
       "        text-align: right;\n",
       "    }\n",
       "</style>\n",
       "<table border=\"1\" class=\"dataframe\">\n",
       "  <thead>\n",
       "    <tr style=\"text-align: right;\">\n",
       "      <th></th>\n",
       "      <th>M</th>\n",
       "      <th>Y</th>\n",
       "      <th>M</th>\n",
       "      <th>Y</th>\n",
       "      <th>Measurement date</th>\n",
       "      <th>Station code</th>\n",
       "      <th>Address</th>\n",
       "      <th>Latitude</th>\n",
       "      <th>Longitude</th>\n",
       "      <th>SO2</th>\n",
       "      <th>NO2</th>\n",
       "      <th>O3</th>\n",
       "      <th>CO</th>\n",
       "      <th>PM10</th>\n",
       "      <th>PM25</th>\n",
       "    </tr>\n",
       "  </thead>\n",
       "  <tbody>\n",
       "    <tr>\n",
       "      <th>0</th>\n",
       "      <td>01</td>\n",
       "      <td>2017</td>\n",
       "      <td>01</td>\n",
       "      <td>2017</td>\n",
       "      <td>2017-01</td>\n",
       "      <td>101</td>\n",
       "      <td>Jongno-gu</td>\n",
       "      <td>37.572016</td>\n",
       "      <td>127.005008</td>\n",
       "      <td>0.004</td>\n",
       "      <td>0.045</td>\n",
       "      <td>0.004</td>\n",
       "      <td>1.0</td>\n",
       "      <td>76.0</td>\n",
       "      <td>68.0</td>\n",
       "    </tr>\n",
       "    <tr>\n",
       "      <th>1</th>\n",
       "      <td>01</td>\n",
       "      <td>2017</td>\n",
       "      <td>01</td>\n",
       "      <td>2017</td>\n",
       "      <td>2017-01</td>\n",
       "      <td>101</td>\n",
       "      <td>Jongno-gu</td>\n",
       "      <td>37.572016</td>\n",
       "      <td>127.005008</td>\n",
       "      <td>0.004</td>\n",
       "      <td>0.048</td>\n",
       "      <td>0.005</td>\n",
       "      <td>1.0</td>\n",
       "      <td>83.0</td>\n",
       "      <td>74.0</td>\n",
       "    </tr>\n",
       "    <tr>\n",
       "      <th>2</th>\n",
       "      <td>01</td>\n",
       "      <td>2017</td>\n",
       "      <td>01</td>\n",
       "      <td>2017</td>\n",
       "      <td>2017-01</td>\n",
       "      <td>101</td>\n",
       "      <td>Jongno-gu</td>\n",
       "      <td>37.572016</td>\n",
       "      <td>127.005008</td>\n",
       "      <td>0.004</td>\n",
       "      <td>0.054</td>\n",
       "      <td>0.005</td>\n",
       "      <td>1.0</td>\n",
       "      <td>93.0</td>\n",
       "      <td>79.0</td>\n",
       "    </tr>\n",
       "    <tr>\n",
       "      <th>3</th>\n",
       "      <td>01</td>\n",
       "      <td>2017</td>\n",
       "      <td>01</td>\n",
       "      <td>2017</td>\n",
       "      <td>2017-01</td>\n",
       "      <td>101</td>\n",
       "      <td>Jongno-gu</td>\n",
       "      <td>37.572016</td>\n",
       "      <td>127.005008</td>\n",
       "      <td>0.005</td>\n",
       "      <td>0.050</td>\n",
       "      <td>0.007</td>\n",
       "      <td>1.0</td>\n",
       "      <td>94.0</td>\n",
       "      <td>79.0</td>\n",
       "    </tr>\n",
       "    <tr>\n",
       "      <th>4</th>\n",
       "      <td>01</td>\n",
       "      <td>2017</td>\n",
       "      <td>01</td>\n",
       "      <td>2017</td>\n",
       "      <td>2017-01</td>\n",
       "      <td>101</td>\n",
       "      <td>Jongno-gu</td>\n",
       "      <td>37.572016</td>\n",
       "      <td>127.005008</td>\n",
       "      <td>0.006</td>\n",
       "      <td>0.055</td>\n",
       "      <td>0.008</td>\n",
       "      <td>0.9</td>\n",
       "      <td>93.0</td>\n",
       "      <td>78.0</td>\n",
       "    </tr>\n",
       "    <tr>\n",
       "      <th>...</th>\n",
       "      <td>...</td>\n",
       "      <td>...</td>\n",
       "      <td>...</td>\n",
       "      <td>...</td>\n",
       "      <td>...</td>\n",
       "      <td>...</td>\n",
       "      <td>...</td>\n",
       "      <td>...</td>\n",
       "      <td>...</td>\n",
       "      <td>...</td>\n",
       "      <td>...</td>\n",
       "      <td>...</td>\n",
       "      <td>...</td>\n",
       "      <td>...</td>\n",
       "      <td>...</td>\n",
       "    </tr>\n",
       "    <tr>\n",
       "      <th>44257</th>\n",
       "      <td>09</td>\n",
       "      <td>2017</td>\n",
       "      <td>09</td>\n",
       "      <td>2017</td>\n",
       "      <td>2017-09</td>\n",
       "      <td>103</td>\n",
       "      <td>Yongsan-gu</td>\n",
       "      <td>37.540033</td>\n",
       "      <td>127.004850</td>\n",
       "      <td>0.004</td>\n",
       "      <td>0.029</td>\n",
       "      <td>0.019</td>\n",
       "      <td>0.3</td>\n",
       "      <td>20.0</td>\n",
       "      <td>9.0</td>\n",
       "    </tr>\n",
       "    <tr>\n",
       "      <th>44258</th>\n",
       "      <td>09</td>\n",
       "      <td>2017</td>\n",
       "      <td>09</td>\n",
       "      <td>2017</td>\n",
       "      <td>2017-09</td>\n",
       "      <td>103</td>\n",
       "      <td>Yongsan-gu</td>\n",
       "      <td>37.540033</td>\n",
       "      <td>127.004850</td>\n",
       "      <td>0.004</td>\n",
       "      <td>0.027</td>\n",
       "      <td>0.023</td>\n",
       "      <td>0.3</td>\n",
       "      <td>19.0</td>\n",
       "      <td>11.0</td>\n",
       "    </tr>\n",
       "    <tr>\n",
       "      <th>44259</th>\n",
       "      <td>09</td>\n",
       "      <td>2017</td>\n",
       "      <td>09</td>\n",
       "      <td>2017</td>\n",
       "      <td>2017-09</td>\n",
       "      <td>103</td>\n",
       "      <td>Yongsan-gu</td>\n",
       "      <td>37.540033</td>\n",
       "      <td>127.004850</td>\n",
       "      <td>0.005</td>\n",
       "      <td>0.029</td>\n",
       "      <td>0.025</td>\n",
       "      <td>0.3</td>\n",
       "      <td>26.0</td>\n",
       "      <td>10.0</td>\n",
       "    </tr>\n",
       "    <tr>\n",
       "      <th>44260</th>\n",
       "      <td>09</td>\n",
       "      <td>2017</td>\n",
       "      <td>09</td>\n",
       "      <td>2017</td>\n",
       "      <td>2017-09</td>\n",
       "      <td>103</td>\n",
       "      <td>Yongsan-gu</td>\n",
       "      <td>37.540033</td>\n",
       "      <td>127.004850</td>\n",
       "      <td>0.004</td>\n",
       "      <td>0.023</td>\n",
       "      <td>0.032</td>\n",
       "      <td>0.2</td>\n",
       "      <td>18.0</td>\n",
       "      <td>12.0</td>\n",
       "    </tr>\n",
       "    <tr>\n",
       "      <th>44261</th>\n",
       "      <td>09</td>\n",
       "      <td>2017</td>\n",
       "      <td>09</td>\n",
       "      <td>2017</td>\n",
       "      <td>2017-09</td>\n",
       "      <td>103</td>\n",
       "      <td>Yongsan-gu</td>\n",
       "      <td>37.540033</td>\n",
       "      <td>127.004850</td>\n",
       "      <td>0.004</td>\n",
       "      <td>0.021</td>\n",
       "      <td>0.035</td>\n",
       "      <td>0.2</td>\n",
       "      <td>25.0</td>\n",
       "      <td>13.0</td>\n",
       "    </tr>\n",
       "  </tbody>\n",
       "</table>\n",
       "<p>44262 rows × 15 columns</p>\n",
       "</div>"
      ],
      "text/plain": [
       "        M     Y   M     Y Measurement date  Station code     Address  \\\n",
       "0      01  2017  01  2017          2017-01           101   Jongno-gu   \n",
       "1      01  2017  01  2017          2017-01           101   Jongno-gu   \n",
       "2      01  2017  01  2017          2017-01           101   Jongno-gu   \n",
       "3      01  2017  01  2017          2017-01           101   Jongno-gu   \n",
       "4      01  2017  01  2017          2017-01           101   Jongno-gu   \n",
       "...    ..   ...  ..   ...              ...           ...         ...   \n",
       "44257  09  2017  09  2017          2017-09           103  Yongsan-gu   \n",
       "44258  09  2017  09  2017          2017-09           103  Yongsan-gu   \n",
       "44259  09  2017  09  2017          2017-09           103  Yongsan-gu   \n",
       "44260  09  2017  09  2017          2017-09           103  Yongsan-gu   \n",
       "44261  09  2017  09  2017          2017-09           103  Yongsan-gu   \n",
       "\n",
       "        Latitude   Longitude    SO2    NO2     O3   CO  PM10  PM25  \n",
       "0      37.572016  127.005008  0.004  0.045  0.004  1.0  76.0  68.0  \n",
       "1      37.572016  127.005008  0.004  0.048  0.005  1.0  83.0  74.0  \n",
       "2      37.572016  127.005008  0.004  0.054  0.005  1.0  93.0  79.0  \n",
       "3      37.572016  127.005008  0.005  0.050  0.007  1.0  94.0  79.0  \n",
       "4      37.572016  127.005008  0.006  0.055  0.008  0.9  93.0  78.0  \n",
       "...          ...         ...    ...    ...    ...  ...   ...   ...  \n",
       "44257  37.540033  127.004850  0.004  0.029  0.019  0.3  20.0   9.0  \n",
       "44258  37.540033  127.004850  0.004  0.027  0.023  0.3  19.0  11.0  \n",
       "44259  37.540033  127.004850  0.005  0.029  0.025  0.3  26.0  10.0  \n",
       "44260  37.540033  127.004850  0.004  0.023  0.032  0.2  18.0  12.0  \n",
       "44261  37.540033  127.004850  0.004  0.021  0.035  0.2  25.0  13.0  \n",
       "\n",
       "[44262 rows x 15 columns]"
      ]
     },
     "execution_count": 15,
     "metadata": {},
     "output_type": "execute_result"
    }
   ],
   "source": [
    "a[\"Measurement date\"]\n",
    "a.insert(0,\"M\",a[\"Measurement date\"].str.slice(5,7),True)\n",
    "a.insert(1,\"Y\",a[\"Measurement date\"].str.slice(0,4),True)\n",
    "a"
   ]
  },
  {
   "cell_type": "code",
   "execution_count": 12,
   "metadata": {},
   "outputs": [
    {
     "name": "stderr",
     "output_type": "stream",
     "text": [
      "/Users/art/.julia/conda/3/x86_64/lib/python3.10/site-packages/pyspark/pandas/__init__.py:50: UserWarning: 'PYARROW_IGNORE_TIMEZONE' environment variable was not set. It is required to set this environment variable to '1' in both driver and executor sides if you use pyarrow>=2.0.0. pandas-on-Spark will set it for you but it does not work if there is a Spark context already launched.\n",
      "  warnings.warn(\n",
      "24/08/29 18:19:53 WARN SparkContext: Another SparkContext is being constructed (or threw an exception in its constructor). This may indicate an error, since only one SparkContext should be running in this JVM (see SPARK-2243). The other SparkContext was created at:\n",
      "org.apache.spark.api.java.JavaSparkContext.<init>(JavaSparkContext.scala:58)\n",
      "java.base/jdk.internal.reflect.DirectConstructorHandleAccessor.newInstance(DirectConstructorHandleAccessor.java:62)\n",
      "java.base/java.lang.reflect.Constructor.newInstanceWithCaller(Constructor.java:502)\n",
      "java.base/java.lang.reflect.Constructor.newInstance(Constructor.java:486)\n",
      "py4j.reflection.MethodInvoker.invoke(MethodInvoker.java:247)\n",
      "py4j.reflection.ReflectionEngine.invoke(ReflectionEngine.java:374)\n",
      "py4j.Gateway.invoke(Gateway.java:238)\n",
      "py4j.commands.ConstructorCommand.invokeConstructor(ConstructorCommand.java:80)\n",
      "py4j.commands.ConstructorCommand.execute(ConstructorCommand.java:69)\n",
      "py4j.ClientServerConnection.waitForCommands(ClientServerConnection.java:182)\n",
      "py4j.ClientServerConnection.run(ClientServerConnection.java:106)\n",
      "java.base/java.lang.Thread.run(Thread.java:1570)\n"
     ]
    }
   ],
   "source": [
    "import pyspark.pandas as ps\n",
    "from pyspark.sql import SparkSession\n",
    "# Initialize Spark session\n",
    "spark = SparkSession.builder \\\n",
    "    .appName('spark') \\\n",
    "    .config(\"spark.driver.bindAddress\", \"127.0.0.1\") \\\n",
    "    .getOrCreate()\n",
    "# Load data from CSV files into Spark DataFrames\n",
    "# Seoul_all = spark.read.format(\"csv\").option(\"header\", \"true\").load(\"/Users/art/Airflow/dags/AirPollutionSeoul/Seoul_MY\")\n",
    "# Seoul_all = Seoul_all.toPandas()\n",
    "# Seoul_all"
   ]
  },
  {
   "cell_type": "code",
   "execution_count": 2,
   "metadata": {},
   "outputs": [
    {
     "name": "stderr",
     "output_type": "stream",
     "text": [
      "[Stage 1:===============================================>         (10 + 2) / 12]\r"
     ]
    }
   ],
   "source": [
    "Seoul_all = spark.read.format(\"csv\").option(\"header\", \"true\").load(\"/Users/art/Airflow/dags/AirPollutionSeoul/Seoul_MY\").toPandas()"
   ]
  },
  {
   "cell_type": "code",
   "execution_count": 1,
   "metadata": {},
   "outputs": [
    {
     "name": "stderr",
     "output_type": "stream",
     "text": [
      "Setting default log level to \"WARN\".\n",
      "To adjust logging level use sc.setLogLevel(newLevel). For SparkR, use setLogLevel(newLevel).\n",
      "24/08/29 18:06:59 WARN NativeCodeLoader: Unable to load native-hadoop library for your platform... using builtin-java classes where applicable\n",
      "24/08/29 18:07:00 WARN Utils: Service 'sparkDriver' could not bind on a random free port. You may check whether configuring an appropriate binding address.\n",
      "24/08/29 18:07:00 WARN Utils: Service 'sparkDriver' could not bind on a random free port. You may check whether configuring an appropriate binding address.\n",
      "24/08/29 18:07:00 WARN Utils: Service 'sparkDriver' could not bind on a random free port. You may check whether configuring an appropriate binding address.\n",
      "24/08/29 18:07:00 WARN Utils: Service 'sparkDriver' could not bind on a random free port. You may check whether configuring an appropriate binding address.\n",
      "24/08/29 18:07:00 WARN Utils: Service 'sparkDriver' could not bind on a random free port. You may check whether configuring an appropriate binding address.\n",
      "24/08/29 18:07:00 WARN Utils: Service 'sparkDriver' could not bind on a random free port. You may check whether configuring an appropriate binding address.\n",
      "24/08/29 18:07:00 WARN Utils: Service 'sparkDriver' could not bind on a random free port. You may check whether configuring an appropriate binding address.\n",
      "24/08/29 18:07:00 WARN Utils: Service 'sparkDriver' could not bind on a random free port. You may check whether configuring an appropriate binding address.\n",
      "24/08/29 18:07:00 WARN Utils: Service 'sparkDriver' could not bind on a random free port. You may check whether configuring an appropriate binding address.\n",
      "24/08/29 18:07:00 WARN Utils: Service 'sparkDriver' could not bind on a random free port. You may check whether configuring an appropriate binding address.\n",
      "24/08/29 18:07:00 WARN Utils: Service 'sparkDriver' could not bind on a random free port. You may check whether configuring an appropriate binding address.\n",
      "24/08/29 18:07:00 WARN Utils: Service 'sparkDriver' could not bind on a random free port. You may check whether configuring an appropriate binding address.\n",
      "24/08/29 18:07:00 WARN Utils: Service 'sparkDriver' could not bind on a random free port. You may check whether configuring an appropriate binding address.\n",
      "24/08/29 18:07:00 WARN Utils: Service 'sparkDriver' could not bind on a random free port. You may check whether configuring an appropriate binding address.\n",
      "24/08/29 18:07:00 WARN Utils: Service 'sparkDriver' could not bind on a random free port. You may check whether configuring an appropriate binding address.\n",
      "24/08/29 18:07:00 WARN Utils: Service 'sparkDriver' could not bind on a random free port. You may check whether configuring an appropriate binding address.\n",
      "24/08/29 18:07:00 ERROR SparkContext: Error initializing SparkContext.\n",
      "java.net.BindException: Can't assign requested address: Service 'sparkDriver' failed after 16 retries (on a random free port)! Consider explicitly setting the appropriate binding address for the service 'sparkDriver' (for example spark.driver.bindAddress for SparkDriver) to the correct binding address.\n",
      "\tat java.base/sun.nio.ch.Net.bind0(Native Method)\n",
      "\tat java.base/sun.nio.ch.Net.bind(Net.java:565)\n",
      "\tat java.base/sun.nio.ch.ServerSocketChannelImpl.netBind(ServerSocketChannelImpl.java:344)\n",
      "\tat java.base/sun.nio.ch.ServerSocketChannelImpl.bind(ServerSocketChannelImpl.java:301)\n",
      "\tat io.netty.channel.socket.nio.NioServerSocketChannel.doBind(NioServerSocketChannel.java:141)\n",
      "\tat io.netty.channel.AbstractChannel$AbstractUnsafe.bind(AbstractChannel.java:562)\n",
      "\tat io.netty.channel.DefaultChannelPipeline$HeadContext.bind(DefaultChannelPipeline.java:1334)\n",
      "\tat io.netty.channel.AbstractChannelHandlerContext.invokeBind(AbstractChannelHandlerContext.java:600)\n",
      "\tat io.netty.channel.AbstractChannelHandlerContext.bind(AbstractChannelHandlerContext.java:579)\n",
      "\tat io.netty.channel.DefaultChannelPipeline.bind(DefaultChannelPipeline.java:973)\n",
      "\tat io.netty.channel.AbstractChannel.bind(AbstractChannel.java:260)\n",
      "\tat io.netty.bootstrap.AbstractBootstrap$2.run(AbstractBootstrap.java:356)\n",
      "\tat io.netty.util.concurrent.AbstractEventExecutor.runTask(AbstractEventExecutor.java:174)\n",
      "\tat io.netty.util.concurrent.AbstractEventExecutor.safeExecute(AbstractEventExecutor.java:167)\n",
      "\tat io.netty.util.concurrent.SingleThreadEventExecutor.runAllTasks(SingleThreadEventExecutor.java:470)\n",
      "\tat io.netty.channel.nio.NioEventLoop.run(NioEventLoop.java:569)\n",
      "\tat io.netty.util.concurrent.SingleThreadEventExecutor$4.run(SingleThreadEventExecutor.java:997)\n",
      "\tat io.netty.util.internal.ThreadExecutorMap$2.run(ThreadExecutorMap.java:74)\n",
      "\tat io.netty.util.concurrent.FastThreadLocalRunnable.run(FastThreadLocalRunnable.java:30)\n",
      "\tat java.base/java.lang.Thread.run(Thread.java:1570)\n"
     ]
    },
    {
     "ename": "Py4JJavaError",
     "evalue": "An error occurred while calling None.org.apache.spark.api.java.JavaSparkContext.\n: java.net.BindException: Can't assign requested address: Service 'sparkDriver' failed after 16 retries (on a random free port)! Consider explicitly setting the appropriate binding address for the service 'sparkDriver' (for example spark.driver.bindAddress for SparkDriver) to the correct binding address.\n\tat java.base/sun.nio.ch.Net.bind0(Native Method)\n\tat java.base/sun.nio.ch.Net.bind(Net.java:565)\n\tat java.base/sun.nio.ch.ServerSocketChannelImpl.netBind(ServerSocketChannelImpl.java:344)\n\tat java.base/sun.nio.ch.ServerSocketChannelImpl.bind(ServerSocketChannelImpl.java:301)\n\tat io.netty.channel.socket.nio.NioServerSocketChannel.doBind(NioServerSocketChannel.java:141)\n\tat io.netty.channel.AbstractChannel$AbstractUnsafe.bind(AbstractChannel.java:562)\n\tat io.netty.channel.DefaultChannelPipeline$HeadContext.bind(DefaultChannelPipeline.java:1334)\n\tat io.netty.channel.AbstractChannelHandlerContext.invokeBind(AbstractChannelHandlerContext.java:600)\n\tat io.netty.channel.AbstractChannelHandlerContext.bind(AbstractChannelHandlerContext.java:579)\n\tat io.netty.channel.DefaultChannelPipeline.bind(DefaultChannelPipeline.java:973)\n\tat io.netty.channel.AbstractChannel.bind(AbstractChannel.java:260)\n\tat io.netty.bootstrap.AbstractBootstrap$2.run(AbstractBootstrap.java:356)\n\tat io.netty.util.concurrent.AbstractEventExecutor.runTask(AbstractEventExecutor.java:174)\n\tat io.netty.util.concurrent.AbstractEventExecutor.safeExecute(AbstractEventExecutor.java:167)\n\tat io.netty.util.concurrent.SingleThreadEventExecutor.runAllTasks(SingleThreadEventExecutor.java:470)\n\tat io.netty.channel.nio.NioEventLoop.run(NioEventLoop.java:569)\n\tat io.netty.util.concurrent.SingleThreadEventExecutor$4.run(SingleThreadEventExecutor.java:997)\n\tat io.netty.util.internal.ThreadExecutorMap$2.run(ThreadExecutorMap.java:74)\n\tat io.netty.util.concurrent.FastThreadLocalRunnable.run(FastThreadLocalRunnable.java:30)\n\tat java.base/java.lang.Thread.run(Thread.java:1570)\n",
     "output_type": "error",
     "traceback": [
      "\u001b[0;31m---------------------------------------------------------------------------\u001b[0m",
      "\u001b[0;31mPy4JJavaError\u001b[0m                             Traceback (most recent call last)",
      "Cell \u001b[0;32mIn[1], line 3\u001b[0m\n\u001b[1;32m      1\u001b[0m \u001b[38;5;28;01mfrom\u001b[39;00m \u001b[38;5;21;01mpyspark\u001b[39;00m\u001b[38;5;21;01m.\u001b[39;00m\u001b[38;5;21;01msql\u001b[39;00m \u001b[38;5;28;01mimport\u001b[39;00m SparkSession\n\u001b[0;32m----> 3\u001b[0m spark \u001b[38;5;241m=\u001b[39m \u001b[43mSparkSession\u001b[49m\u001b[38;5;241;43m.\u001b[39;49m\u001b[43mbuilder\u001b[49m\u001b[38;5;241;43m.\u001b[39;49m\u001b[43mappName\u001b[49m\u001b[43m(\u001b[49m\u001b[38;5;124;43m\"\u001b[39;49m\u001b[38;5;124;43ma\u001b[39;49m\u001b[38;5;124;43m\"\u001b[39;49m\u001b[43m)\u001b[49m\u001b[38;5;241;43m.\u001b[39;49m\u001b[43mgetOrCreate\u001b[49m\u001b[43m(\u001b[49m\u001b[43m)\u001b[49m\n",
      "File \u001b[0;32m~/.julia/conda/3/x86_64/lib/python3.10/site-packages/pyspark/sql/session.py:497\u001b[0m, in \u001b[0;36mSparkSession.Builder.getOrCreate\u001b[0;34m(self)\u001b[0m\n\u001b[1;32m    495\u001b[0m     sparkConf\u001b[38;5;241m.\u001b[39mset(key, value)\n\u001b[1;32m    496\u001b[0m \u001b[38;5;66;03m# This SparkContext may be an existing one.\u001b[39;00m\n\u001b[0;32m--> 497\u001b[0m sc \u001b[38;5;241m=\u001b[39m \u001b[43mSparkContext\u001b[49m\u001b[38;5;241;43m.\u001b[39;49m\u001b[43mgetOrCreate\u001b[49m\u001b[43m(\u001b[49m\u001b[43msparkConf\u001b[49m\u001b[43m)\u001b[49m\n\u001b[1;32m    498\u001b[0m \u001b[38;5;66;03m# Do not update `SparkConf` for existing `SparkContext`, as it's shared\u001b[39;00m\n\u001b[1;32m    499\u001b[0m \u001b[38;5;66;03m# by all sessions.\u001b[39;00m\n\u001b[1;32m    500\u001b[0m session \u001b[38;5;241m=\u001b[39m SparkSession(sc, options\u001b[38;5;241m=\u001b[39m\u001b[38;5;28mself\u001b[39m\u001b[38;5;241m.\u001b[39m_options)\n",
      "File \u001b[0;32m~/.julia/conda/3/x86_64/lib/python3.10/site-packages/pyspark/context.py:515\u001b[0m, in \u001b[0;36mSparkContext.getOrCreate\u001b[0;34m(cls, conf)\u001b[0m\n\u001b[1;32m    513\u001b[0m \u001b[38;5;28;01mwith\u001b[39;00m SparkContext\u001b[38;5;241m.\u001b[39m_lock:\n\u001b[1;32m    514\u001b[0m     \u001b[38;5;28;01mif\u001b[39;00m SparkContext\u001b[38;5;241m.\u001b[39m_active_spark_context \u001b[38;5;129;01mis\u001b[39;00m \u001b[38;5;28;01mNone\u001b[39;00m:\n\u001b[0;32m--> 515\u001b[0m         \u001b[43mSparkContext\u001b[49m\u001b[43m(\u001b[49m\u001b[43mconf\u001b[49m\u001b[38;5;241;43m=\u001b[39;49m\u001b[43mconf\u001b[49m\u001b[43m \u001b[49m\u001b[38;5;129;43;01mor\u001b[39;49;00m\u001b[43m \u001b[49m\u001b[43mSparkConf\u001b[49m\u001b[43m(\u001b[49m\u001b[43m)\u001b[49m\u001b[43m)\u001b[49m\n\u001b[1;32m    516\u001b[0m     \u001b[38;5;28;01massert\u001b[39;00m SparkContext\u001b[38;5;241m.\u001b[39m_active_spark_context \u001b[38;5;129;01mis\u001b[39;00m \u001b[38;5;129;01mnot\u001b[39;00m \u001b[38;5;28;01mNone\u001b[39;00m\n\u001b[1;32m    517\u001b[0m     \u001b[38;5;28;01mreturn\u001b[39;00m SparkContext\u001b[38;5;241m.\u001b[39m_active_spark_context\n",
      "File \u001b[0;32m~/.julia/conda/3/x86_64/lib/python3.10/site-packages/pyspark/context.py:203\u001b[0m, in \u001b[0;36mSparkContext.__init__\u001b[0;34m(self, master, appName, sparkHome, pyFiles, environment, batchSize, serializer, conf, gateway, jsc, profiler_cls, udf_profiler_cls, memory_profiler_cls)\u001b[0m\n\u001b[1;32m    201\u001b[0m SparkContext\u001b[38;5;241m.\u001b[39m_ensure_initialized(\u001b[38;5;28mself\u001b[39m, gateway\u001b[38;5;241m=\u001b[39mgateway, conf\u001b[38;5;241m=\u001b[39mconf)\n\u001b[1;32m    202\u001b[0m \u001b[38;5;28;01mtry\u001b[39;00m:\n\u001b[0;32m--> 203\u001b[0m     \u001b[38;5;28;43mself\u001b[39;49m\u001b[38;5;241;43m.\u001b[39;49m\u001b[43m_do_init\u001b[49m\u001b[43m(\u001b[49m\n\u001b[1;32m    204\u001b[0m \u001b[43m        \u001b[49m\u001b[43mmaster\u001b[49m\u001b[43m,\u001b[49m\n\u001b[1;32m    205\u001b[0m \u001b[43m        \u001b[49m\u001b[43mappName\u001b[49m\u001b[43m,\u001b[49m\n\u001b[1;32m    206\u001b[0m \u001b[43m        \u001b[49m\u001b[43msparkHome\u001b[49m\u001b[43m,\u001b[49m\n\u001b[1;32m    207\u001b[0m \u001b[43m        \u001b[49m\u001b[43mpyFiles\u001b[49m\u001b[43m,\u001b[49m\n\u001b[1;32m    208\u001b[0m \u001b[43m        \u001b[49m\u001b[43menvironment\u001b[49m\u001b[43m,\u001b[49m\n\u001b[1;32m    209\u001b[0m \u001b[43m        \u001b[49m\u001b[43mbatchSize\u001b[49m\u001b[43m,\u001b[49m\n\u001b[1;32m    210\u001b[0m \u001b[43m        \u001b[49m\u001b[43mserializer\u001b[49m\u001b[43m,\u001b[49m\n\u001b[1;32m    211\u001b[0m \u001b[43m        \u001b[49m\u001b[43mconf\u001b[49m\u001b[43m,\u001b[49m\n\u001b[1;32m    212\u001b[0m \u001b[43m        \u001b[49m\u001b[43mjsc\u001b[49m\u001b[43m,\u001b[49m\n\u001b[1;32m    213\u001b[0m \u001b[43m        \u001b[49m\u001b[43mprofiler_cls\u001b[49m\u001b[43m,\u001b[49m\n\u001b[1;32m    214\u001b[0m \u001b[43m        \u001b[49m\u001b[43mudf_profiler_cls\u001b[49m\u001b[43m,\u001b[49m\n\u001b[1;32m    215\u001b[0m \u001b[43m        \u001b[49m\u001b[43mmemory_profiler_cls\u001b[49m\u001b[43m,\u001b[49m\n\u001b[1;32m    216\u001b[0m \u001b[43m    \u001b[49m\u001b[43m)\u001b[49m\n\u001b[1;32m    217\u001b[0m \u001b[38;5;28;01mexcept\u001b[39;00m \u001b[38;5;167;01mBaseException\u001b[39;00m:\n\u001b[1;32m    218\u001b[0m     \u001b[38;5;66;03m# If an error occurs, clean up in order to allow future SparkContext creation:\u001b[39;00m\n\u001b[1;32m    219\u001b[0m     \u001b[38;5;28mself\u001b[39m\u001b[38;5;241m.\u001b[39mstop()\n",
      "File \u001b[0;32m~/.julia/conda/3/x86_64/lib/python3.10/site-packages/pyspark/context.py:296\u001b[0m, in \u001b[0;36mSparkContext._do_init\u001b[0;34m(self, master, appName, sparkHome, pyFiles, environment, batchSize, serializer, conf, jsc, profiler_cls, udf_profiler_cls, memory_profiler_cls)\u001b[0m\n\u001b[1;32m    293\u001b[0m \u001b[38;5;28mself\u001b[39m\u001b[38;5;241m.\u001b[39menvironment[\u001b[38;5;124m\"\u001b[39m\u001b[38;5;124mPYTHONHASHSEED\u001b[39m\u001b[38;5;124m\"\u001b[39m] \u001b[38;5;241m=\u001b[39m os\u001b[38;5;241m.\u001b[39menviron\u001b[38;5;241m.\u001b[39mget(\u001b[38;5;124m\"\u001b[39m\u001b[38;5;124mPYTHONHASHSEED\u001b[39m\u001b[38;5;124m\"\u001b[39m, \u001b[38;5;124m\"\u001b[39m\u001b[38;5;124m0\u001b[39m\u001b[38;5;124m\"\u001b[39m)\n\u001b[1;32m    295\u001b[0m \u001b[38;5;66;03m# Create the Java SparkContext through Py4J\u001b[39;00m\n\u001b[0;32m--> 296\u001b[0m \u001b[38;5;28mself\u001b[39m\u001b[38;5;241m.\u001b[39m_jsc \u001b[38;5;241m=\u001b[39m jsc \u001b[38;5;129;01mor\u001b[39;00m \u001b[38;5;28;43mself\u001b[39;49m\u001b[38;5;241;43m.\u001b[39;49m\u001b[43m_initialize_context\u001b[49m\u001b[43m(\u001b[49m\u001b[38;5;28;43mself\u001b[39;49m\u001b[38;5;241;43m.\u001b[39;49m\u001b[43m_conf\u001b[49m\u001b[38;5;241;43m.\u001b[39;49m\u001b[43m_jconf\u001b[49m\u001b[43m)\u001b[49m\n\u001b[1;32m    297\u001b[0m \u001b[38;5;66;03m# Reset the SparkConf to the one actually used by the SparkContext in JVM.\u001b[39;00m\n\u001b[1;32m    298\u001b[0m \u001b[38;5;28mself\u001b[39m\u001b[38;5;241m.\u001b[39m_conf \u001b[38;5;241m=\u001b[39m SparkConf(_jconf\u001b[38;5;241m=\u001b[39m\u001b[38;5;28mself\u001b[39m\u001b[38;5;241m.\u001b[39m_jsc\u001b[38;5;241m.\u001b[39msc()\u001b[38;5;241m.\u001b[39mconf())\n",
      "File \u001b[0;32m~/.julia/conda/3/x86_64/lib/python3.10/site-packages/pyspark/context.py:421\u001b[0m, in \u001b[0;36mSparkContext._initialize_context\u001b[0;34m(self, jconf)\u001b[0m\n\u001b[1;32m    417\u001b[0m \u001b[38;5;250m\u001b[39m\u001b[38;5;124;03m\"\"\"\u001b[39;00m\n\u001b[1;32m    418\u001b[0m \u001b[38;5;124;03mInitialize SparkContext in function to allow subclass specific initialization\u001b[39;00m\n\u001b[1;32m    419\u001b[0m \u001b[38;5;124;03m\"\"\"\u001b[39;00m\n\u001b[1;32m    420\u001b[0m \u001b[38;5;28;01massert\u001b[39;00m \u001b[38;5;28mself\u001b[39m\u001b[38;5;241m.\u001b[39m_jvm \u001b[38;5;129;01mis\u001b[39;00m \u001b[38;5;129;01mnot\u001b[39;00m \u001b[38;5;28;01mNone\u001b[39;00m\n\u001b[0;32m--> 421\u001b[0m \u001b[38;5;28;01mreturn\u001b[39;00m \u001b[38;5;28;43mself\u001b[39;49m\u001b[38;5;241;43m.\u001b[39;49m\u001b[43m_jvm\u001b[49m\u001b[38;5;241;43m.\u001b[39;49m\u001b[43mJavaSparkContext\u001b[49m\u001b[43m(\u001b[49m\u001b[43mjconf\u001b[49m\u001b[43m)\u001b[49m\n",
      "File \u001b[0;32m~/.julia/conda/3/x86_64/lib/python3.10/site-packages/py4j/java_gateway.py:1587\u001b[0m, in \u001b[0;36mJavaClass.__call__\u001b[0;34m(self, *args)\u001b[0m\n\u001b[1;32m   1581\u001b[0m command \u001b[38;5;241m=\u001b[39m proto\u001b[38;5;241m.\u001b[39mCONSTRUCTOR_COMMAND_NAME \u001b[38;5;241m+\u001b[39m\\\n\u001b[1;32m   1582\u001b[0m     \u001b[38;5;28mself\u001b[39m\u001b[38;5;241m.\u001b[39m_command_header \u001b[38;5;241m+\u001b[39m\\\n\u001b[1;32m   1583\u001b[0m     args_command \u001b[38;5;241m+\u001b[39m\\\n\u001b[1;32m   1584\u001b[0m     proto\u001b[38;5;241m.\u001b[39mEND_COMMAND_PART\n\u001b[1;32m   1586\u001b[0m answer \u001b[38;5;241m=\u001b[39m \u001b[38;5;28mself\u001b[39m\u001b[38;5;241m.\u001b[39m_gateway_client\u001b[38;5;241m.\u001b[39msend_command(command)\n\u001b[0;32m-> 1587\u001b[0m return_value \u001b[38;5;241m=\u001b[39m \u001b[43mget_return_value\u001b[49m\u001b[43m(\u001b[49m\n\u001b[1;32m   1588\u001b[0m \u001b[43m    \u001b[49m\u001b[43manswer\u001b[49m\u001b[43m,\u001b[49m\u001b[43m \u001b[49m\u001b[38;5;28;43mself\u001b[39;49m\u001b[38;5;241;43m.\u001b[39;49m\u001b[43m_gateway_client\u001b[49m\u001b[43m,\u001b[49m\u001b[43m \u001b[49m\u001b[38;5;28;43;01mNone\u001b[39;49;00m\u001b[43m,\u001b[49m\u001b[43m \u001b[49m\u001b[38;5;28;43mself\u001b[39;49m\u001b[38;5;241;43m.\u001b[39;49m\u001b[43m_fqn\u001b[49m\u001b[43m)\u001b[49m\n\u001b[1;32m   1590\u001b[0m \u001b[38;5;28;01mfor\u001b[39;00m temp_arg \u001b[38;5;129;01min\u001b[39;00m temp_args:\n\u001b[1;32m   1591\u001b[0m     \u001b[38;5;28;01mif\u001b[39;00m \u001b[38;5;28mhasattr\u001b[39m(temp_arg, \u001b[38;5;124m\"\u001b[39m\u001b[38;5;124m_detach\u001b[39m\u001b[38;5;124m\"\u001b[39m):\n",
      "File \u001b[0;32m~/.julia/conda/3/x86_64/lib/python3.10/site-packages/py4j/protocol.py:326\u001b[0m, in \u001b[0;36mget_return_value\u001b[0;34m(answer, gateway_client, target_id, name)\u001b[0m\n\u001b[1;32m    324\u001b[0m value \u001b[38;5;241m=\u001b[39m OUTPUT_CONVERTER[\u001b[38;5;28mtype\u001b[39m](answer[\u001b[38;5;241m2\u001b[39m:], gateway_client)\n\u001b[1;32m    325\u001b[0m \u001b[38;5;28;01mif\u001b[39;00m answer[\u001b[38;5;241m1\u001b[39m] \u001b[38;5;241m==\u001b[39m REFERENCE_TYPE:\n\u001b[0;32m--> 326\u001b[0m     \u001b[38;5;28;01mraise\u001b[39;00m Py4JJavaError(\n\u001b[1;32m    327\u001b[0m         \u001b[38;5;124m\"\u001b[39m\u001b[38;5;124mAn error occurred while calling \u001b[39m\u001b[38;5;132;01m{0}\u001b[39;00m\u001b[38;5;132;01m{1}\u001b[39;00m\u001b[38;5;132;01m{2}\u001b[39;00m\u001b[38;5;124m.\u001b[39m\u001b[38;5;130;01m\\n\u001b[39;00m\u001b[38;5;124m\"\u001b[39m\u001b[38;5;241m.\u001b[39m\n\u001b[1;32m    328\u001b[0m         \u001b[38;5;28mformat\u001b[39m(target_id, \u001b[38;5;124m\"\u001b[39m\u001b[38;5;124m.\u001b[39m\u001b[38;5;124m\"\u001b[39m, name), value)\n\u001b[1;32m    329\u001b[0m \u001b[38;5;28;01melse\u001b[39;00m:\n\u001b[1;32m    330\u001b[0m     \u001b[38;5;28;01mraise\u001b[39;00m Py4JError(\n\u001b[1;32m    331\u001b[0m         \u001b[38;5;124m\"\u001b[39m\u001b[38;5;124mAn error occurred while calling \u001b[39m\u001b[38;5;132;01m{0}\u001b[39;00m\u001b[38;5;132;01m{1}\u001b[39;00m\u001b[38;5;132;01m{2}\u001b[39;00m\u001b[38;5;124m. Trace:\u001b[39m\u001b[38;5;130;01m\\n\u001b[39;00m\u001b[38;5;132;01m{3}\u001b[39;00m\u001b[38;5;130;01m\\n\u001b[39;00m\u001b[38;5;124m\"\u001b[39m\u001b[38;5;241m.\u001b[39m\n\u001b[1;32m    332\u001b[0m         \u001b[38;5;28mformat\u001b[39m(target_id, \u001b[38;5;124m\"\u001b[39m\u001b[38;5;124m.\u001b[39m\u001b[38;5;124m\"\u001b[39m, name, value))\n",
      "\u001b[0;31mPy4JJavaError\u001b[0m: An error occurred while calling None.org.apache.spark.api.java.JavaSparkContext.\n: java.net.BindException: Can't assign requested address: Service 'sparkDriver' failed after 16 retries (on a random free port)! Consider explicitly setting the appropriate binding address for the service 'sparkDriver' (for example spark.driver.bindAddress for SparkDriver) to the correct binding address.\n\tat java.base/sun.nio.ch.Net.bind0(Native Method)\n\tat java.base/sun.nio.ch.Net.bind(Net.java:565)\n\tat java.base/sun.nio.ch.ServerSocketChannelImpl.netBind(ServerSocketChannelImpl.java:344)\n\tat java.base/sun.nio.ch.ServerSocketChannelImpl.bind(ServerSocketChannelImpl.java:301)\n\tat io.netty.channel.socket.nio.NioServerSocketChannel.doBind(NioServerSocketChannel.java:141)\n\tat io.netty.channel.AbstractChannel$AbstractUnsafe.bind(AbstractChannel.java:562)\n\tat io.netty.channel.DefaultChannelPipeline$HeadContext.bind(DefaultChannelPipeline.java:1334)\n\tat io.netty.channel.AbstractChannelHandlerContext.invokeBind(AbstractChannelHandlerContext.java:600)\n\tat io.netty.channel.AbstractChannelHandlerContext.bind(AbstractChannelHandlerContext.java:579)\n\tat io.netty.channel.DefaultChannelPipeline.bind(DefaultChannelPipeline.java:973)\n\tat io.netty.channel.AbstractChannel.bind(AbstractChannel.java:260)\n\tat io.netty.bootstrap.AbstractBootstrap$2.run(AbstractBootstrap.java:356)\n\tat io.netty.util.concurrent.AbstractEventExecutor.runTask(AbstractEventExecutor.java:174)\n\tat io.netty.util.concurrent.AbstractEventExecutor.safeExecute(AbstractEventExecutor.java:167)\n\tat io.netty.util.concurrent.SingleThreadEventExecutor.runAllTasks(SingleThreadEventExecutor.java:470)\n\tat io.netty.channel.nio.NioEventLoop.run(NioEventLoop.java:569)\n\tat io.netty.util.concurrent.SingleThreadEventExecutor$4.run(SingleThreadEventExecutor.java:997)\n\tat io.netty.util.internal.ThreadExecutorMap$2.run(ThreadExecutorMap.java:74)\n\tat io.netty.util.concurrent.FastThreadLocalRunnable.run(FastThreadLocalRunnable.java:30)\n\tat java.base/java.lang.Thread.run(Thread.java:1570)\n"
     ]
    }
   ],
   "source": [
    "from pyspark.sql import SparkSession\n",
    "\n",
    "spark = SparkSession.builder.appName(\"a\").getOrCreate()"
   ]
  },
  {
   "cell_type": "code",
   "execution_count": null,
   "metadata": {},
   "outputs": [],
   "source": []
  }
 ],
 "metadata": {
  "kernelspec": {
   "display_name": "base",
   "language": "python",
   "name": "python3"
  },
  "language_info": {
   "codemirror_mode": {
    "name": "ipython",
    "version": 3
   },
   "file_extension": ".py",
   "mimetype": "text/x-python",
   "name": "python",
   "nbconvert_exporter": "python",
   "pygments_lexer": "ipython3",
   "version": "3.10.14"
  }
 },
 "nbformat": 4,
 "nbformat_minor": 2
}
